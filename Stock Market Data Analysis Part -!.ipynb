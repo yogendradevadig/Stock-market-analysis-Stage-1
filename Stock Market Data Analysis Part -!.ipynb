{
 "cells": [
  {
   "cell_type": "markdown",
   "id": "7bfd9f57",
   "metadata": {},
   "source": [
    "# Stock Market Analysis\n",
    "Problem Statement: Stock market prediction and analysis are some of the most difficult jobs to complete. There are numerous causes for this, including market volatility and a variety of other dependent and independent variables that influence the value of a certain stock in the market. These variables make it extremely difficult for any stock market expert to anticipate the rise and fall of the market with great precision."
   ]
  },
  {
   "cell_type": "markdown",
   "id": "3b0b9a7e",
   "metadata": {},
   "source": [
    "# Data Description: About the Variables Information\n",
    "Open: The price of the stock when the market opens in the morning\n",
    "\n",
    "Close: The price of the stock when the market closed in the evening for the day(last buy-sell orders executed between 2 traders)\n",
    "\n",
    "High: Highest price the stock reached during that day ()\n",
    "\n",
    "Low: Lowest price the stock is traded on that day ()\n",
    "\n",
    "Volume: The total amount of stocks traded on that day (Total amount of Trading/Shares activity during that day/a period of Time)\n"
   ]
  },
  {
   "cell_type": "markdown",
   "id": "a8abf0a3",
   "metadata": {},
   "source": [
    "# Importing Data From Website ( data Scraping)"
   ]
  },
  {
   "cell_type": "code",
   "execution_count": 4,
   "id": "3d6be2c5",
   "metadata": {},
   "outputs": [
    {
     "name": "stdout",
     "output_type": "stream",
     "text": [
      "Requirement already satisfied: datareader in c:\\users\\hp\\anaconda3\\lib\\site-packages (0.0.9)\n",
      "Requirement already satisfied: scipy in c:\\users\\hp\\anaconda3\\lib\\site-packages (from datareader) (1.6.2)\n",
      "Collecting argparse\n",
      "  Using cached argparse-1.4.0-py2.py3-none-any.whl (23 kB)\n",
      "Requirement already satisfied: opencv-python in c:\\users\\hp\\anaconda3\\lib\\site-packages (from datareader) (4.5.5.64)\n",
      "Requirement already satisfied: matplotlib in c:\\users\\hp\\anaconda3\\lib\\site-packages (from datareader) (3.3.4)\n",
      "Requirement already satisfied: numpy in c:\\users\\hp\\anaconda3\\lib\\site-packages (from datareader) (1.20.1)\n",
      "Requirement already satisfied: pandas in c:\\users\\hp\\anaconda3\\lib\\site-packages (from datareader) (1.2.4)\n",
      "Requirement already satisfied: kiwisolver>=1.0.1 in c:\\users\\hp\\anaconda3\\lib\\site-packages (from matplotlib->datareader) (1.3.1)\n",
      "Requirement already satisfied: python-dateutil>=2.1 in c:\\users\\hp\\anaconda3\\lib\\site-packages (from matplotlib->datareader) (2.8.1)\n",
      "Requirement already satisfied: pillow>=6.2.0 in c:\\users\\hp\\anaconda3\\lib\\site-packages (from matplotlib->datareader) (8.2.0)\n",
      "Requirement already satisfied: cycler>=0.10 in c:\\users\\hp\\anaconda3\\lib\\site-packages (from matplotlib->datareader) (0.10.0)\n",
      "Requirement already satisfied: pyparsing!=2.0.4,!=2.1.2,!=2.1.6,>=2.0.3 in c:\\users\\hp\\anaconda3\\lib\\site-packages (from matplotlib->datareader) (2.4.7)\n",
      "Requirement already satisfied: six in c:\\users\\hp\\anaconda3\\lib\\site-packages (from cycler>=0.10->matplotlib->datareader) (1.15.0)\n",
      "Requirement already satisfied: pytz>=2017.3 in c:\\users\\hp\\anaconda3\\lib\\site-packages (from pandas->datareader) (2021.1)\n",
      "Installing collected packages: argparse\n",
      "Successfully installed argparse-1.4.0\n"
     ]
    }
   ],
   "source": [
    "!pip install datareader"
   ]
  },
  {
   "cell_type": "code",
   "execution_count": 5,
   "id": "70896fb7",
   "metadata": {},
   "outputs": [
    {
     "name": "stdout",
     "output_type": "stream",
     "text": [
      "Requirement already satisfied: nsepy in c:\\users\\hp\\anaconda3\\lib\\site-packages (0.8)\n",
      "Requirement already satisfied: beautifulsoup4 in c:\\users\\hp\\anaconda3\\lib\\site-packages (from nsepy) (4.9.3)\n",
      "Requirement already satisfied: six in c:\\users\\hp\\anaconda3\\lib\\site-packages (from nsepy) (1.15.0)\n",
      "Requirement already satisfied: lxml in c:\\users\\hp\\anaconda3\\lib\\site-packages (from nsepy) (4.6.3)\n",
      "Requirement already satisfied: pandas in c:\\users\\hp\\anaconda3\\lib\\site-packages (from nsepy) (1.2.4)\n",
      "Requirement already satisfied: click in c:\\users\\hp\\anaconda3\\lib\\site-packages (from nsepy) (7.1.2)\n",
      "Requirement already satisfied: requests in c:\\users\\hp\\anaconda3\\lib\\site-packages (from nsepy) (2.27.1)\n",
      "Requirement already satisfied: numpy in c:\\users\\hp\\anaconda3\\lib\\site-packages (from nsepy) (1.20.1)\n",
      "Requirement already satisfied: soupsieve>1.2 in c:\\users\\hp\\anaconda3\\lib\\site-packages (from beautifulsoup4->nsepy) (2.2.1)\n",
      "Requirement already satisfied: pytz>=2017.3 in c:\\users\\hp\\anaconda3\\lib\\site-packages (from pandas->nsepy) (2021.1)\n",
      "Requirement already satisfied: python-dateutil>=2.7.3 in c:\\users\\hp\\anaconda3\\lib\\site-packages (from pandas->nsepy) (2.8.1)\n",
      "Requirement already satisfied: idna<4,>=2.5 in c:\\users\\hp\\anaconda3\\lib\\site-packages (from requests->nsepy) (2.10)\n",
      "Requirement already satisfied: urllib3<1.27,>=1.21.1 in c:\\users\\hp\\anaconda3\\lib\\site-packages (from requests->nsepy) (1.26.4)\n",
      "Requirement already satisfied: certifi>=2017.4.17 in c:\\users\\hp\\anaconda3\\lib\\site-packages (from requests->nsepy) (2020.12.5)\n",
      "Requirement already satisfied: charset-normalizer~=2.0.0 in c:\\users\\hp\\anaconda3\\lib\\site-packages (from requests->nsepy) (2.0.12)\n"
     ]
    }
   ],
   "source": [
    "!pip install nsepy"
   ]
  },
  {
   "cell_type": "code",
   "execution_count": 6,
   "id": "ccbfc549",
   "metadata": {},
   "outputs": [],
   "source": [
    "import pandas_datareader.data as pdr"
   ]
  },
  {
   "cell_type": "code",
   "execution_count": 7,
   "id": "f19efa37",
   "metadata": {},
   "outputs": [],
   "source": [
    "import pandas as pd"
   ]
  },
  {
   "cell_type": "code",
   "execution_count": 8,
   "id": "ac3a31a1",
   "metadata": {},
   "outputs": [],
   "source": [
    "import numpy as np"
   ]
  },
  {
   "cell_type": "code",
   "execution_count": 9,
   "id": "bb3c4ff7",
   "metadata": {},
   "outputs": [],
   "source": [
    "import matplotlib.pyplot as plt\n",
    "%matplotlib inline"
   ]
  },
  {
   "cell_type": "code",
   "execution_count": 10,
   "id": "2c5b6fed",
   "metadata": {},
   "outputs": [],
   "source": [
    "import seaborn as sn\n"
   ]
  },
  {
   "cell_type": "code",
   "execution_count": 11,
   "id": "19117ad6",
   "metadata": {},
   "outputs": [],
   "source": [
    "import datetime"
   ]
  },
  {
   "cell_type": "code",
   "execution_count": 12,
   "id": "08fad08f",
   "metadata": {},
   "outputs": [],
   "source": [
    "start= datetime.datetime(2016,1,1)"
   ]
  },
  {
   "cell_type": "code",
   "execution_count": 13,
   "id": "d5a3759c",
   "metadata": {},
   "outputs": [],
   "source": [
    "end=datetime.datetime(2021,12,31)"
   ]
  },
  {
   "cell_type": "code",
   "execution_count": 14,
   "id": "103e2967",
   "metadata": {},
   "outputs": [],
   "source": [
    "tcs=pdr.DataReader(\"TCS.NS\",'yahoo',start,end)"
   ]
  },
  {
   "cell_type": "code",
   "execution_count": 15,
   "id": "5edae987",
   "metadata": {},
   "outputs": [
    {
     "data": {
      "text/html": [
       "<div>\n",
       "<style scoped>\n",
       "    .dataframe tbody tr th:only-of-type {\n",
       "        vertical-align: middle;\n",
       "    }\n",
       "\n",
       "    .dataframe tbody tr th {\n",
       "        vertical-align: top;\n",
       "    }\n",
       "\n",
       "    .dataframe thead th {\n",
       "        text-align: right;\n",
       "    }\n",
       "</style>\n",
       "<table border=\"1\" class=\"dataframe\">\n",
       "  <thead>\n",
       "    <tr style=\"text-align: right;\">\n",
       "      <th></th>\n",
       "      <th>High</th>\n",
       "      <th>Low</th>\n",
       "      <th>Open</th>\n",
       "      <th>Close</th>\n",
       "      <th>Volume</th>\n",
       "      <th>Adj Close</th>\n",
       "    </tr>\n",
       "    <tr>\n",
       "      <th>Date</th>\n",
       "      <th></th>\n",
       "      <th></th>\n",
       "      <th></th>\n",
       "      <th></th>\n",
       "      <th></th>\n",
       "      <th></th>\n",
       "    </tr>\n",
       "  </thead>\n",
       "  <tbody>\n",
       "    <tr>\n",
       "      <th>2016-01-01</th>\n",
       "      <td>1219.500000</td>\n",
       "      <td>1206.125000</td>\n",
       "      <td>1219.500000</td>\n",
       "      <td>1208.199951</td>\n",
       "      <td>712262.0</td>\n",
       "      <td>1068.501953</td>\n",
       "    </tr>\n",
       "    <tr>\n",
       "      <th>2016-01-04</th>\n",
       "      <td>1207.000000</td>\n",
       "      <td>1183.025024</td>\n",
       "      <td>1205.074951</td>\n",
       "      <td>1184.800049</td>\n",
       "      <td>1870184.0</td>\n",
       "      <td>1047.807861</td>\n",
       "    </tr>\n",
       "    <tr>\n",
       "      <th>2016-01-05</th>\n",
       "      <td>1193.300049</td>\n",
       "      <td>1170.500000</td>\n",
       "      <td>1192.500000</td>\n",
       "      <td>1174.474976</td>\n",
       "      <td>2678020.0</td>\n",
       "      <td>1038.676392</td>\n",
       "    </tr>\n",
       "    <tr>\n",
       "      <th>2016-01-06</th>\n",
       "      <td>1193.074951</td>\n",
       "      <td>1175.099976</td>\n",
       "      <td>1175.099976</td>\n",
       "      <td>1190.800049</td>\n",
       "      <td>2653228.0</td>\n",
       "      <td>1053.113892</td>\n",
       "    </tr>\n",
       "    <tr>\n",
       "      <th>2016-01-07</th>\n",
       "      <td>1191.449951</td>\n",
       "      <td>1180.000000</td>\n",
       "      <td>1185.000000</td>\n",
       "      <td>1185.625000</td>\n",
       "      <td>3199580.0</td>\n",
       "      <td>1048.537231</td>\n",
       "    </tr>\n",
       "  </tbody>\n",
       "</table>\n",
       "</div>"
      ],
      "text/plain": [
       "                   High          Low         Open        Close     Volume  \\\n",
       "Date                                                                        \n",
       "2016-01-01  1219.500000  1206.125000  1219.500000  1208.199951   712262.0   \n",
       "2016-01-04  1207.000000  1183.025024  1205.074951  1184.800049  1870184.0   \n",
       "2016-01-05  1193.300049  1170.500000  1192.500000  1174.474976  2678020.0   \n",
       "2016-01-06  1193.074951  1175.099976  1175.099976  1190.800049  2653228.0   \n",
       "2016-01-07  1191.449951  1180.000000  1185.000000  1185.625000  3199580.0   \n",
       "\n",
       "              Adj Close  \n",
       "Date                     \n",
       "2016-01-01  1068.501953  \n",
       "2016-01-04  1047.807861  \n",
       "2016-01-05  1038.676392  \n",
       "2016-01-06  1053.113892  \n",
       "2016-01-07  1048.537231  "
      ]
     },
     "execution_count": 15,
     "metadata": {},
     "output_type": "execute_result"
    }
   ],
   "source": [
    "tcs.head()"
   ]
  },
  {
   "cell_type": "code",
   "execution_count": 16,
   "id": "86228353",
   "metadata": {},
   "outputs": [
    {
     "data": {
      "text/plain": [
       "<bound method DataFrame.info of                    High          Low         Open        Close     Volume  \\\n",
       "Date                                                                        \n",
       "2016-01-01  1219.500000  1206.125000  1219.500000  1208.199951   712262.0   \n",
       "2016-01-04  1207.000000  1183.025024  1205.074951  1184.800049  1870184.0   \n",
       "2016-01-05  1193.300049  1170.500000  1192.500000  1174.474976  2678020.0   \n",
       "2016-01-06  1193.074951  1175.099976  1175.099976  1190.800049  2653228.0   \n",
       "2016-01-07  1191.449951  1180.000000  1185.000000  1185.625000  3199580.0   \n",
       "...                 ...          ...          ...          ...        ...   \n",
       "2021-12-27  3700.000000  3653.100098  3671.000000  3696.100098  1534135.0   \n",
       "2021-12-28  3725.000000  3693.850098  3710.000000  3706.550049  1456218.0   \n",
       "2021-12-29  3719.949951  3685.000000  3692.250000  3694.699951  1456923.0   \n",
       "2021-12-30  3740.000000  3680.000000  3681.350098  3733.750000  1966475.0   \n",
       "2021-12-31  3760.000000  3731.300049  3742.800049  3738.350098  1207141.0   \n",
       "\n",
       "              Adj Close  \n",
       "Date                     \n",
       "2016-01-01  1068.501953  \n",
       "2016-01-04  1047.807861  \n",
       "2016-01-05  1038.676392  \n",
       "2016-01-06  1053.113892  \n",
       "2016-01-07  1048.537231  \n",
       "...                 ...  \n",
       "2021-12-27  3664.929688  \n",
       "2021-12-28  3675.291260  \n",
       "2021-12-29  3663.541260  \n",
       "2021-12-30  3702.261963  \n",
       "2021-12-31  3706.823242  \n",
       "\n",
       "[1482 rows x 6 columns]>"
      ]
     },
     "execution_count": 16,
     "metadata": {},
     "output_type": "execute_result"
    }
   ],
   "source": [
    "tcs.info"
   ]
  },
  {
   "cell_type": "markdown",
   "id": "24562b15",
   "metadata": {},
   "source": [
    "# Exploratory Data Analysis"
   ]
  },
  {
   "cell_type": "code",
   "execution_count": 17,
   "id": "51fac5c6",
   "metadata": {},
   "outputs": [
    {
     "data": {
      "text/plain": [
       "Text(0, 0.5, 'Stock Price')"
      ]
     },
     "execution_count": 17,
     "metadata": {},
     "output_type": "execute_result"
    },
    {
     "data": {
      "image/png": "[encoded data removed]",
      "text/plain": [
       "<Figure size 1080x504 with 1 Axes>"
      ]
     },
     "metadata": {
      "needs_background": "light"
     },
     "output_type": "display_data"
    }
   ],
   "source": [
    "tcs['Close'].plot(label='TCS Close Price',figsize=(15,7))\n",
    "plt.title(\"Tcs Stock Prices\")\n",
    "plt.ylabel(\"Stock Price\")\n"
   ]
  },
  {
   "cell_type": "code",
   "execution_count": 18,
   "id": "708bef5a",
   "metadata": {},
   "outputs": [
    {
     "data": {
      "text/plain": [
       "Text(0.5, 0, 'Tcs Time Period')"
      ]
     },
     "execution_count": 18,
     "metadata": {},
     "output_type": "execute_result"
    },
    {
     "data": {
      "image/png": "[encoded data removed]",
      "text/plain": [
       "<Figure size 432x288 with 1 Axes>"
      ]
     },
     "metadata": {
      "needs_background": "light"
     },
     "output_type": "display_data"
    }
   ],
   "source": [
    "tcs['Close'].hist(bins=50,facecolor='red',edgecolor='black')\n",
    "plt.ylabel('Tcs Close Price')\n",
    "plt.xlabel('Tcs Time Period')\n"
   ]
  },
  {
   "cell_type": "code",
   "execution_count": 19,
   "id": "3bfd5634",
   "metadata": {},
   "outputs": [
    {
     "name": "stderr",
     "output_type": "stream",
     "text": [
      "C:\\Users\\HP\\anaconda3\\lib\\site-packages\\seaborn\\distributions.py:2557: FutureWarning: `distplot` is a deprecated function and will be removed in a future version. Please adapt your code to use either `displot` (a figure-level function with similar flexibility) or `histplot` (an axes-level function for histograms).\n",
      "  warnings.warn(msg, FutureWarning)\n"
     ]
    },
    {
     "data": {
      "text/plain": [
       "<AxesSubplot:xlabel='Close', ylabel='Density'>"
      ]
     },
     "execution_count": 19,
     "metadata": {},
     "output_type": "execute_result"
    },
    {
     "data": {
      "image/png": "[encoded data removed]",
      "text/plain": [
       "<Figure size 432x288 with 1 Axes>"
      ]
     },
     "metadata": {
      "needs_background": "light"
     },
     "output_type": "display_data"
    }
   ],
   "source": [
    "sn.distplot(tcs['Close'])\n"
   ]
  },
  {
   "cell_type": "code",
   "execution_count": 20,
   "id": "108c7155",
   "metadata": {},
   "outputs": [
    {
     "data": {
      "text/plain": [
       "<matplotlib.legend.Legend at 0x246b74bcdf0>"
      ]
     },
     "execution_count": 20,
     "metadata": {},
     "output_type": "execute_result"
    },
    {
     "data": {
      "image/png": "[encoded data removed]",
      "text/plain": [
       "<Figure size 1080x504 with 1 Axes>"
      ]
     },
     "metadata": {
      "needs_background": "light"
     },
     "output_type": "display_data"
    }
   ],
   "source": [
    "tcs['Close'].plot(label='TCS Close Price',figsize=(15,7))\n",
    "tcs['Open'].plot(label='TCS Open Price',figsize=(15,7))\n",
    "plt.title(\"Tcs Stock Prices\")\n",
    "plt.ylabel(\"Stock Price\")\n",
    "plt.legend()"
   ]
  },
  {
   "cell_type": "markdown",
   "id": "c26e3aec",
   "metadata": {},
   "source": [
    "# Plot Summary:\n",
    "As we see in graphs of open and close stocks, we see that TCS has taking many up and downs almost the whole journey.\n",
    "It start from around 2450 points and faced major down fall but at last it reached higher to 3700 points.\n",
    "We have Irregular/ Random/ Noise Component, Due to Random variation or unforseen events"
   ]
  },
  {
   "cell_type": "code",
   "execution_count": 21,
   "id": "60e6c5cb",
   "metadata": {},
   "outputs": [
    {
     "data": {
      "text/plain": [
       "1407"
      ]
     },
     "execution_count": 21,
     "metadata": {},
     "output_type": "execute_result"
    }
   ],
   "source": [
    "tcs['Close'].argmax()"
   ]
  },
  {
   "cell_type": "markdown",
   "id": "c1584429",
   "metadata": {},
   "source": [
    "# Skewness of Close and Open Stock Prices distribution"
   ]
  },
  {
   "cell_type": "code",
   "execution_count": 22,
   "id": "1726b41c",
   "metadata": {},
   "outputs": [
    {
     "name": "stderr",
     "output_type": "stream",
     "text": [
      "C:\\Users\\HP\\anaconda3\\lib\\site-packages\\seaborn\\axisgrid.py:2073: UserWarning: The `size` parameter has been renamed to `height`; please update your code.\n",
      "  warnings.warn(msg, UserWarning)\n"
     ]
    },
    {
     "data": {
      "image/png": "[encoded data removed]",
      "text/plain": [
       "<Figure size 864x864 with 3 Axes>"
      ]
     },
     "metadata": {
      "needs_background": "light"
     },
     "output_type": "display_data"
    }
   ],
   "source": [
    "sn.jointplot(x = 'Close', y = 'Open', data = tcs, kind = 'reg',fit_reg= True,size=12)\n",
    "plt.ylabel('Price')\n",
    "plt.show()"
   ]
  },
  {
   "cell_type": "code",
   "execution_count": 23,
   "id": "7366c1e1",
   "metadata": {},
   "outputs": [
    {
     "data": {
      "image/png": "[encoded data removed]",
      "text/plain": [
       "<Figure size 432x432 with 3 Axes>"
      ]
     },
     "metadata": {
      "needs_background": "light"
     },
     "output_type": "display_data"
    }
   ],
   "source": [
    "sn.jointplot(x = 'Close', y = 'Open', data = tcs, kind='kde')\n",
    "plt.show()"
   ]
  },
  {
   "cell_type": "markdown",
   "id": "b8821c59",
   "metadata": {},
   "source": [
    "# Above Recap 1:\n",
    "We take the dataset tcs_df.csv from which we get the symbol, open and close price, date\n",
    "\n",
    "We Converted csv to the DataFrame Format\n",
    "\n",
    "and plot the graph of company open and close price\n",
    "\n",
    "We Checked for the Skewness of Open and Close Stock Prices"
   ]
  },
  {
   "cell_type": "code",
   "execution_count": 24,
   "id": "e21fc04c",
   "metadata": {},
   "outputs": [
    {
     "data": {
      "text/html": [
       "<div>\n",
       "<style scoped>\n",
       "    .dataframe tbody tr th:only-of-type {\n",
       "        vertical-align: middle;\n",
       "    }\n",
       "\n",
       "    .dataframe tbody tr th {\n",
       "        vertical-align: top;\n",
       "    }\n",
       "\n",
       "    .dataframe thead th {\n",
       "        text-align: right;\n",
       "    }\n",
       "</style>\n",
       "<table border=\"1\" class=\"dataframe\">\n",
       "  <thead>\n",
       "    <tr style=\"text-align: right;\">\n",
       "      <th></th>\n",
       "      <th>High</th>\n",
       "      <th>Low</th>\n",
       "      <th>Open</th>\n",
       "      <th>Close</th>\n",
       "      <th>Volume</th>\n",
       "      <th>Adj Close</th>\n",
       "    </tr>\n",
       "    <tr>\n",
       "      <th>Date</th>\n",
       "      <th></th>\n",
       "      <th></th>\n",
       "      <th></th>\n",
       "      <th></th>\n",
       "      <th></th>\n",
       "      <th></th>\n",
       "    </tr>\n",
       "  </thead>\n",
       "  <tbody>\n",
       "    <tr>\n",
       "      <th>2016-01-01</th>\n",
       "      <td>False</td>\n",
       "      <td>False</td>\n",
       "      <td>False</td>\n",
       "      <td>False</td>\n",
       "      <td>False</td>\n",
       "      <td>False</td>\n",
       "    </tr>\n",
       "    <tr>\n",
       "      <th>2016-01-04</th>\n",
       "      <td>False</td>\n",
       "      <td>False</td>\n",
       "      <td>False</td>\n",
       "      <td>False</td>\n",
       "      <td>False</td>\n",
       "      <td>False</td>\n",
       "    </tr>\n",
       "    <tr>\n",
       "      <th>2016-01-05</th>\n",
       "      <td>False</td>\n",
       "      <td>False</td>\n",
       "      <td>False</td>\n",
       "      <td>False</td>\n",
       "      <td>False</td>\n",
       "      <td>False</td>\n",
       "    </tr>\n",
       "    <tr>\n",
       "      <th>2016-01-06</th>\n",
       "      <td>False</td>\n",
       "      <td>False</td>\n",
       "      <td>False</td>\n",
       "      <td>False</td>\n",
       "      <td>False</td>\n",
       "      <td>False</td>\n",
       "    </tr>\n",
       "    <tr>\n",
       "      <th>2016-01-07</th>\n",
       "      <td>False</td>\n",
       "      <td>False</td>\n",
       "      <td>False</td>\n",
       "      <td>False</td>\n",
       "      <td>False</td>\n",
       "      <td>False</td>\n",
       "    </tr>\n",
       "    <tr>\n",
       "      <th>...</th>\n",
       "      <td>...</td>\n",
       "      <td>...</td>\n",
       "      <td>...</td>\n",
       "      <td>...</td>\n",
       "      <td>...</td>\n",
       "      <td>...</td>\n",
       "    </tr>\n",
       "    <tr>\n",
       "      <th>2021-12-27</th>\n",
       "      <td>False</td>\n",
       "      <td>False</td>\n",
       "      <td>False</td>\n",
       "      <td>False</td>\n",
       "      <td>False</td>\n",
       "      <td>False</td>\n",
       "    </tr>\n",
       "    <tr>\n",
       "      <th>2021-12-28</th>\n",
       "      <td>False</td>\n",
       "      <td>False</td>\n",
       "      <td>False</td>\n",
       "      <td>False</td>\n",
       "      <td>False</td>\n",
       "      <td>False</td>\n",
       "    </tr>\n",
       "    <tr>\n",
       "      <th>2021-12-29</th>\n",
       "      <td>False</td>\n",
       "      <td>False</td>\n",
       "      <td>False</td>\n",
       "      <td>False</td>\n",
       "      <td>False</td>\n",
       "      <td>False</td>\n",
       "    </tr>\n",
       "    <tr>\n",
       "      <th>2021-12-30</th>\n",
       "      <td>False</td>\n",
       "      <td>False</td>\n",
       "      <td>False</td>\n",
       "      <td>False</td>\n",
       "      <td>False</td>\n",
       "      <td>False</td>\n",
       "    </tr>\n",
       "    <tr>\n",
       "      <th>2021-12-31</th>\n",
       "      <td>False</td>\n",
       "      <td>False</td>\n",
       "      <td>False</td>\n",
       "      <td>False</td>\n",
       "      <td>False</td>\n",
       "      <td>False</td>\n",
       "    </tr>\n",
       "  </tbody>\n",
       "</table>\n",
       "<p>1482 rows × 6 columns</p>\n",
       "</div>"
      ],
      "text/plain": [
       "             High    Low   Open  Close  Volume  Adj Close\n",
       "Date                                                     \n",
       "2016-01-01  False  False  False  False   False      False\n",
       "2016-01-04  False  False  False  False   False      False\n",
       "2016-01-05  False  False  False  False   False      False\n",
       "2016-01-06  False  False  False  False   False      False\n",
       "2016-01-07  False  False  False  False   False      False\n",
       "...           ...    ...    ...    ...     ...        ...\n",
       "2021-12-27  False  False  False  False   False      False\n",
       "2021-12-28  False  False  False  False   False      False\n",
       "2021-12-29  False  False  False  False   False      False\n",
       "2021-12-30  False  False  False  False   False      False\n",
       "2021-12-31  False  False  False  False   False      False\n",
       "\n",
       "[1482 rows x 6 columns]"
      ]
     },
     "execution_count": 24,
     "metadata": {},
     "output_type": "execute_result"
    }
   ],
   "source": [
    "tcs.isna()"
   ]
  },
  {
   "cell_type": "markdown",
   "id": "40b3f320",
   "metadata": {},
   "source": [
    "# Above Data set we can see there is no Null Value or Missing Value"
   ]
  },
  {
   "cell_type": "code",
   "execution_count": 25,
   "id": "f5d40ca7",
   "metadata": {},
   "outputs": [
    {
     "data": {
      "text/plain": [
       "Text(0.5, 1.0, 'TCS DATA')"
      ]
     },
     "execution_count": 25,
     "metadata": {},
     "output_type": "execute_result"
    },
    {
     "data": {
      "image/png": "[encoded data removed]",
      "text/plain": [
       "<Figure size 1440x720 with 1 Axes>"
      ]
     },
     "metadata": {
      "needs_background": "light"
     },
     "output_type": "display_data"
    }
   ],
   "source": [
    "tcs.plot(kind='box',label='TCS DATA VISUALIZATION',figsize=(20,10));\n",
    "plt.title(\"TCS DATA\")\n"
   ]
  },
  {
   "cell_type": "code",
   "execution_count": 26,
   "id": "31f45e15",
   "metadata": {},
   "outputs": [
    {
     "data": {
      "text/plain": [
       "Text(0, 0.5, 'close')"
      ]
     },
     "execution_count": 26,
     "metadata": {},
     "output_type": "execute_result"
    },
    {
     "data": {
      "image/png": "[encoded data removed]",
      "text/plain": [
       "<Figure size 432x288 with 1 Axes>"
      ]
     },
     "metadata": {
      "needs_background": "light"
     },
     "output_type": "display_data"
    }
   ],
   "source": [
    "plt.boxplot(tcs['Volume'])\n",
    "plt.ylabel('close')\n"
   ]
  },
  {
   "cell_type": "code",
   "execution_count": 27,
   "id": "b258dd4e",
   "metadata": {},
   "outputs": [
    {
     "data": {
      "text/html": [
       "<div>\n",
       "<style scoped>\n",
       "    .dataframe tbody tr th:only-of-type {\n",
       "        vertical-align: middle;\n",
       "    }\n",
       "\n",
       "    .dataframe tbody tr th {\n",
       "        vertical-align: top;\n",
       "    }\n",
       "\n",
       "    .dataframe thead th {\n",
       "        text-align: right;\n",
       "    }\n",
       "</style>\n",
       "<table border=\"1\" class=\"dataframe\">\n",
       "  <thead>\n",
       "    <tr style=\"text-align: right;\">\n",
       "      <th></th>\n",
       "      <th>High</th>\n",
       "      <th>Low</th>\n",
       "      <th>Open</th>\n",
       "      <th>Close</th>\n",
       "      <th>Volume</th>\n",
       "      <th>Adj Close</th>\n",
       "    </tr>\n",
       "    <tr>\n",
       "      <th>Date</th>\n",
       "      <th></th>\n",
       "      <th></th>\n",
       "      <th></th>\n",
       "      <th></th>\n",
       "      <th></th>\n",
       "      <th></th>\n",
       "    </tr>\n",
       "  </thead>\n",
       "  <tbody>\n",
       "    <tr>\n",
       "      <th>2016-01-01</th>\n",
       "      <td>1219.500000</td>\n",
       "      <td>1206.125000</td>\n",
       "      <td>1219.500000</td>\n",
       "      <td>1208.199951</td>\n",
       "      <td>712262.0</td>\n",
       "      <td>1068.501953</td>\n",
       "    </tr>\n",
       "    <tr>\n",
       "      <th>2016-01-04</th>\n",
       "      <td>1207.000000</td>\n",
       "      <td>1183.025024</td>\n",
       "      <td>1205.074951</td>\n",
       "      <td>1184.800049</td>\n",
       "      <td>1870184.0</td>\n",
       "      <td>1047.807861</td>\n",
       "    </tr>\n",
       "    <tr>\n",
       "      <th>2016-01-05</th>\n",
       "      <td>1193.300049</td>\n",
       "      <td>1170.500000</td>\n",
       "      <td>1192.500000</td>\n",
       "      <td>1174.474976</td>\n",
       "      <td>2678020.0</td>\n",
       "      <td>1038.676392</td>\n",
       "    </tr>\n",
       "    <tr>\n",
       "      <th>2016-01-06</th>\n",
       "      <td>1193.074951</td>\n",
       "      <td>1175.099976</td>\n",
       "      <td>1175.099976</td>\n",
       "      <td>1190.800049</td>\n",
       "      <td>2653228.0</td>\n",
       "      <td>1053.113892</td>\n",
       "    </tr>\n",
       "    <tr>\n",
       "      <th>2016-01-07</th>\n",
       "      <td>1191.449951</td>\n",
       "      <td>1180.000000</td>\n",
       "      <td>1185.000000</td>\n",
       "      <td>1185.625000</td>\n",
       "      <td>3199580.0</td>\n",
       "      <td>1048.537231</td>\n",
       "    </tr>\n",
       "  </tbody>\n",
       "</table>\n",
       "</div>"
      ],
      "text/plain": [
       "                   High          Low         Open        Close     Volume  \\\n",
       "Date                                                                        \n",
       "2016-01-01  1219.500000  1206.125000  1219.500000  1208.199951   712262.0   \n",
       "2016-01-04  1207.000000  1183.025024  1205.074951  1184.800049  1870184.0   \n",
       "2016-01-05  1193.300049  1170.500000  1192.500000  1174.474976  2678020.0   \n",
       "2016-01-06  1193.074951  1175.099976  1175.099976  1190.800049  2653228.0   \n",
       "2016-01-07  1191.449951  1180.000000  1185.000000  1185.625000  3199580.0   \n",
       "\n",
       "              Adj Close  \n",
       "Date                     \n",
       "2016-01-01  1068.501953  \n",
       "2016-01-04  1047.807861  \n",
       "2016-01-05  1038.676392  \n",
       "2016-01-06  1053.113892  \n",
       "2016-01-07  1048.537231  "
      ]
     },
     "execution_count": 27,
     "metadata": {},
     "output_type": "execute_result"
    }
   ],
   "source": [
    "tcs.head()\n"
   ]
  },
  {
   "cell_type": "code",
   "execution_count": 28,
   "id": "b29cd430",
   "metadata": {},
   "outputs": [],
   "source": [
    "tcs_df = pd.DataFrame(tcs, columns = tcs.columns) "
   ]
  },
  {
   "cell_type": "code",
   "execution_count": 29,
   "id": "41f522f1",
   "metadata": {},
   "outputs": [
    {
     "data": {
      "text/html": [
       "<div>\n",
       "<style scoped>\n",
       "    .dataframe tbody tr th:only-of-type {\n",
       "        vertical-align: middle;\n",
       "    }\n",
       "\n",
       "    .dataframe tbody tr th {\n",
       "        vertical-align: top;\n",
       "    }\n",
       "\n",
       "    .dataframe thead th {\n",
       "        text-align: right;\n",
       "    }\n",
       "</style>\n",
       "<table border=\"1\" class=\"dataframe\">\n",
       "  <thead>\n",
       "    <tr style=\"text-align: right;\">\n",
       "      <th></th>\n",
       "      <th>High</th>\n",
       "      <th>Low</th>\n",
       "      <th>Open</th>\n",
       "      <th>Close</th>\n",
       "      <th>Volume</th>\n",
       "      <th>Adj Close</th>\n",
       "    </tr>\n",
       "    <tr>\n",
       "      <th>Date</th>\n",
       "      <th></th>\n",
       "      <th></th>\n",
       "      <th></th>\n",
       "      <th></th>\n",
       "      <th></th>\n",
       "      <th></th>\n",
       "    </tr>\n",
       "  </thead>\n",
       "  <tbody>\n",
       "    <tr>\n",
       "      <th>2016-01-01</th>\n",
       "      <td>1219.500000</td>\n",
       "      <td>1206.125000</td>\n",
       "      <td>1219.500000</td>\n",
       "      <td>1208.199951</td>\n",
       "      <td>712262.0</td>\n",
       "      <td>1068.501953</td>\n",
       "    </tr>\n",
       "    <tr>\n",
       "      <th>2016-01-04</th>\n",
       "      <td>1207.000000</td>\n",
       "      <td>1183.025024</td>\n",
       "      <td>1205.074951</td>\n",
       "      <td>1184.800049</td>\n",
       "      <td>1870184.0</td>\n",
       "      <td>1047.807861</td>\n",
       "    </tr>\n",
       "    <tr>\n",
       "      <th>2016-01-05</th>\n",
       "      <td>1193.300049</td>\n",
       "      <td>1170.500000</td>\n",
       "      <td>1192.500000</td>\n",
       "      <td>1174.474976</td>\n",
       "      <td>2678020.0</td>\n",
       "      <td>1038.676392</td>\n",
       "    </tr>\n",
       "    <tr>\n",
       "      <th>2016-01-06</th>\n",
       "      <td>1193.074951</td>\n",
       "      <td>1175.099976</td>\n",
       "      <td>1175.099976</td>\n",
       "      <td>1190.800049</td>\n",
       "      <td>2653228.0</td>\n",
       "      <td>1053.113892</td>\n",
       "    </tr>\n",
       "    <tr>\n",
       "      <th>2016-01-07</th>\n",
       "      <td>1191.449951</td>\n",
       "      <td>1180.000000</td>\n",
       "      <td>1185.000000</td>\n",
       "      <td>1185.625000</td>\n",
       "      <td>3199580.0</td>\n",
       "      <td>1048.537231</td>\n",
       "    </tr>\n",
       "  </tbody>\n",
       "</table>\n",
       "</div>"
      ],
      "text/plain": [
       "                   High          Low         Open        Close     Volume  \\\n",
       "Date                                                                        \n",
       "2016-01-01  1219.500000  1206.125000  1219.500000  1208.199951   712262.0   \n",
       "2016-01-04  1207.000000  1183.025024  1205.074951  1184.800049  1870184.0   \n",
       "2016-01-05  1193.300049  1170.500000  1192.500000  1174.474976  2678020.0   \n",
       "2016-01-06  1193.074951  1175.099976  1175.099976  1190.800049  2653228.0   \n",
       "2016-01-07  1191.449951  1180.000000  1185.000000  1185.625000  3199580.0   \n",
       "\n",
       "              Adj Close  \n",
       "Date                     \n",
       "2016-01-01  1068.501953  \n",
       "2016-01-04  1047.807861  \n",
       "2016-01-05  1038.676392  \n",
       "2016-01-06  1053.113892  \n",
       "2016-01-07  1048.537231  "
      ]
     },
     "execution_count": 29,
     "metadata": {},
     "output_type": "execute_result"
    }
   ],
   "source": [
    "tcs_df.head()"
   ]
  },
  {
   "cell_type": "code",
   "execution_count": 30,
   "id": "505371dd",
   "metadata": {},
   "outputs": [
    {
     "data": {
      "text/plain": [
       "<AxesSubplot:xlabel='Date', ylabel='Close'>"
      ]
     },
     "execution_count": 30,
     "metadata": {},
     "output_type": "execute_result"
    },
    {
     "data": {
      "image/png": "[encoded data removed]",
      "text/plain": [
       "<Figure size 432x288 with 1 Axes>"
      ]
     },
     "metadata": {
      "needs_background": "light"
     },
     "output_type": "display_data"
    }
   ],
   "source": [
    "sn.lineplot(x = \"Date\",  y =\"Close\",  data = tcs)"
   ]
  },
  {
   "cell_type": "markdown",
   "id": "bc35384d",
   "metadata": {},
   "source": [
    "# Stock Price Going UP over the Years \n"
   ]
  },
  {
   "cell_type": "code",
   "execution_count": 31,
   "id": "eb712d5a",
   "metadata": {},
   "outputs": [],
   "source": [
    "tcs=tcs.reset_index()"
   ]
  },
  {
   "cell_type": "code",
   "execution_count": 32,
   "id": "e4d68270",
   "metadata": {},
   "outputs": [
    {
     "data": {
      "text/html": [
       "<div>\n",
       "<style scoped>\n",
       "    .dataframe tbody tr th:only-of-type {\n",
       "        vertical-align: middle;\n",
       "    }\n",
       "\n",
       "    .dataframe tbody tr th {\n",
       "        vertical-align: top;\n",
       "    }\n",
       "\n",
       "    .dataframe thead th {\n",
       "        text-align: right;\n",
       "    }\n",
       "</style>\n",
       "<table border=\"1\" class=\"dataframe\">\n",
       "  <thead>\n",
       "    <tr style=\"text-align: right;\">\n",
       "      <th></th>\n",
       "      <th>Date</th>\n",
       "      <th>High</th>\n",
       "      <th>Low</th>\n",
       "      <th>Open</th>\n",
       "      <th>Close</th>\n",
       "      <th>Volume</th>\n",
       "      <th>Adj Close</th>\n",
       "    </tr>\n",
       "  </thead>\n",
       "  <tbody>\n",
       "    <tr>\n",
       "      <th>0</th>\n",
       "      <td>2016-01-01</td>\n",
       "      <td>1219.500000</td>\n",
       "      <td>1206.125000</td>\n",
       "      <td>1219.500000</td>\n",
       "      <td>1208.199951</td>\n",
       "      <td>712262.0</td>\n",
       "      <td>1068.501953</td>\n",
       "    </tr>\n",
       "    <tr>\n",
       "      <th>1</th>\n",
       "      <td>2016-01-04</td>\n",
       "      <td>1207.000000</td>\n",
       "      <td>1183.025024</td>\n",
       "      <td>1205.074951</td>\n",
       "      <td>1184.800049</td>\n",
       "      <td>1870184.0</td>\n",
       "      <td>1047.807861</td>\n",
       "    </tr>\n",
       "    <tr>\n",
       "      <th>2</th>\n",
       "      <td>2016-01-05</td>\n",
       "      <td>1193.300049</td>\n",
       "      <td>1170.500000</td>\n",
       "      <td>1192.500000</td>\n",
       "      <td>1174.474976</td>\n",
       "      <td>2678020.0</td>\n",
       "      <td>1038.676392</td>\n",
       "    </tr>\n",
       "    <tr>\n",
       "      <th>3</th>\n",
       "      <td>2016-01-06</td>\n",
       "      <td>1193.074951</td>\n",
       "      <td>1175.099976</td>\n",
       "      <td>1175.099976</td>\n",
       "      <td>1190.800049</td>\n",
       "      <td>2653228.0</td>\n",
       "      <td>1053.113892</td>\n",
       "    </tr>\n",
       "    <tr>\n",
       "      <th>4</th>\n",
       "      <td>2016-01-07</td>\n",
       "      <td>1191.449951</td>\n",
       "      <td>1180.000000</td>\n",
       "      <td>1185.000000</td>\n",
       "      <td>1185.625000</td>\n",
       "      <td>3199580.0</td>\n",
       "      <td>1048.537231</td>\n",
       "    </tr>\n",
       "    <tr>\n",
       "      <th>...</th>\n",
       "      <td>...</td>\n",
       "      <td>...</td>\n",
       "      <td>...</td>\n",
       "      <td>...</td>\n",
       "      <td>...</td>\n",
       "      <td>...</td>\n",
       "      <td>...</td>\n",
       "    </tr>\n",
       "    <tr>\n",
       "      <th>1477</th>\n",
       "      <td>2021-12-27</td>\n",
       "      <td>3700.000000</td>\n",
       "      <td>3653.100098</td>\n",
       "      <td>3671.000000</td>\n",
       "      <td>3696.100098</td>\n",
       "      <td>1534135.0</td>\n",
       "      <td>3664.929688</td>\n",
       "    </tr>\n",
       "    <tr>\n",
       "      <th>1478</th>\n",
       "      <td>2021-12-28</td>\n",
       "      <td>3725.000000</td>\n",
       "      <td>3693.850098</td>\n",
       "      <td>3710.000000</td>\n",
       "      <td>3706.550049</td>\n",
       "      <td>1456218.0</td>\n",
       "      <td>3675.291260</td>\n",
       "    </tr>\n",
       "    <tr>\n",
       "      <th>1479</th>\n",
       "      <td>2021-12-29</td>\n",
       "      <td>3719.949951</td>\n",
       "      <td>3685.000000</td>\n",
       "      <td>3692.250000</td>\n",
       "      <td>3694.699951</td>\n",
       "      <td>1456923.0</td>\n",
       "      <td>3663.541260</td>\n",
       "    </tr>\n",
       "    <tr>\n",
       "      <th>1480</th>\n",
       "      <td>2021-12-30</td>\n",
       "      <td>3740.000000</td>\n",
       "      <td>3680.000000</td>\n",
       "      <td>3681.350098</td>\n",
       "      <td>3733.750000</td>\n",
       "      <td>1966475.0</td>\n",
       "      <td>3702.261963</td>\n",
       "    </tr>\n",
       "    <tr>\n",
       "      <th>1481</th>\n",
       "      <td>2021-12-31</td>\n",
       "      <td>3760.000000</td>\n",
       "      <td>3731.300049</td>\n",
       "      <td>3742.800049</td>\n",
       "      <td>3738.350098</td>\n",
       "      <td>1207141.0</td>\n",
       "      <td>3706.823242</td>\n",
       "    </tr>\n",
       "  </tbody>\n",
       "</table>\n",
       "<p>1482 rows × 7 columns</p>\n",
       "</div>"
      ],
      "text/plain": [
       "           Date         High          Low         Open        Close  \\\n",
       "0    2016-01-01  1219.500000  1206.125000  1219.500000  1208.199951   \n",
       "1    2016-01-04  1207.000000  1183.025024  1205.074951  1184.800049   \n",
       "2    2016-01-05  1193.300049  1170.500000  1192.500000  1174.474976   \n",
       "3    2016-01-06  1193.074951  1175.099976  1175.099976  1190.800049   \n",
       "4    2016-01-07  1191.449951  1180.000000  1185.000000  1185.625000   \n",
       "...         ...          ...          ...          ...          ...   \n",
       "1477 2021-12-27  3700.000000  3653.100098  3671.000000  3696.100098   \n",
       "1478 2021-12-28  3725.000000  3693.850098  3710.000000  3706.550049   \n",
       "1479 2021-12-29  3719.949951  3685.000000  3692.250000  3694.699951   \n",
       "1480 2021-12-30  3740.000000  3680.000000  3681.350098  3733.750000   \n",
       "1481 2021-12-31  3760.000000  3731.300049  3742.800049  3738.350098   \n",
       "\n",
       "         Volume    Adj Close  \n",
       "0      712262.0  1068.501953  \n",
       "1     1870184.0  1047.807861  \n",
       "2     2678020.0  1038.676392  \n",
       "3     2653228.0  1053.113892  \n",
       "4     3199580.0  1048.537231  \n",
       "...         ...          ...  \n",
       "1477  1534135.0  3664.929688  \n",
       "1478  1456218.0  3675.291260  \n",
       "1479  1456923.0  3663.541260  \n",
       "1480  1966475.0  3702.261963  \n",
       "1481  1207141.0  3706.823242  \n",
       "\n",
       "[1482 rows x 7 columns]"
      ]
     },
     "execution_count": 32,
     "metadata": {},
     "output_type": "execute_result"
    }
   ],
   "source": [
    "tcs"
   ]
  },
  {
   "cell_type": "code",
   "execution_count": 33,
   "id": "5fc5f29a",
   "metadata": {},
   "outputs": [],
   "source": [
    "tcs['Month']=tcs.Date.dt.strftime(\"%b\")"
   ]
  },
  {
   "cell_type": "code",
   "execution_count": 34,
   "id": "9d983724",
   "metadata": {},
   "outputs": [],
   "source": [
    "tcs['Year']=tcs.Date.dt.strftime(\"%y\")"
   ]
  },
  {
   "cell_type": "code",
   "execution_count": 35,
   "id": "0f83937a",
   "metadata": {},
   "outputs": [
    {
     "data": {
      "text/html": [
       "<div>\n",
       "<style scoped>\n",
       "    .dataframe tbody tr th:only-of-type {\n",
       "        vertical-align: middle;\n",
       "    }\n",
       "\n",
       "    .dataframe tbody tr th {\n",
       "        vertical-align: top;\n",
       "    }\n",
       "\n",
       "    .dataframe thead th {\n",
       "        text-align: right;\n",
       "    }\n",
       "</style>\n",
       "<table border=\"1\" class=\"dataframe\">\n",
       "  <thead>\n",
       "    <tr style=\"text-align: right;\">\n",
       "      <th></th>\n",
       "      <th>Date</th>\n",
       "      <th>High</th>\n",
       "      <th>Low</th>\n",
       "      <th>Open</th>\n",
       "      <th>Close</th>\n",
       "      <th>Volume</th>\n",
       "      <th>Adj Close</th>\n",
       "      <th>Month</th>\n",
       "      <th>Year</th>\n",
       "    </tr>\n",
       "  </thead>\n",
       "  <tbody>\n",
       "    <tr>\n",
       "      <th>0</th>\n",
       "      <td>2016-01-01</td>\n",
       "      <td>1219.500000</td>\n",
       "      <td>1206.125000</td>\n",
       "      <td>1219.500000</td>\n",
       "      <td>1208.199951</td>\n",
       "      <td>712262.0</td>\n",
       "      <td>1068.501953</td>\n",
       "      <td>Jan</td>\n",
       "      <td>16</td>\n",
       "    </tr>\n",
       "    <tr>\n",
       "      <th>1</th>\n",
       "      <td>2016-01-04</td>\n",
       "      <td>1207.000000</td>\n",
       "      <td>1183.025024</td>\n",
       "      <td>1205.074951</td>\n",
       "      <td>1184.800049</td>\n",
       "      <td>1870184.0</td>\n",
       "      <td>1047.807861</td>\n",
       "      <td>Jan</td>\n",
       "      <td>16</td>\n",
       "    </tr>\n",
       "    <tr>\n",
       "      <th>2</th>\n",
       "      <td>2016-01-05</td>\n",
       "      <td>1193.300049</td>\n",
       "      <td>1170.500000</td>\n",
       "      <td>1192.500000</td>\n",
       "      <td>1174.474976</td>\n",
       "      <td>2678020.0</td>\n",
       "      <td>1038.676392</td>\n",
       "      <td>Jan</td>\n",
       "      <td>16</td>\n",
       "    </tr>\n",
       "    <tr>\n",
       "      <th>3</th>\n",
       "      <td>2016-01-06</td>\n",
       "      <td>1193.074951</td>\n",
       "      <td>1175.099976</td>\n",
       "      <td>1175.099976</td>\n",
       "      <td>1190.800049</td>\n",
       "      <td>2653228.0</td>\n",
       "      <td>1053.113892</td>\n",
       "      <td>Jan</td>\n",
       "      <td>16</td>\n",
       "    </tr>\n",
       "    <tr>\n",
       "      <th>4</th>\n",
       "      <td>2016-01-07</td>\n",
       "      <td>1191.449951</td>\n",
       "      <td>1180.000000</td>\n",
       "      <td>1185.000000</td>\n",
       "      <td>1185.625000</td>\n",
       "      <td>3199580.0</td>\n",
       "      <td>1048.537231</td>\n",
       "      <td>Jan</td>\n",
       "      <td>16</td>\n",
       "    </tr>\n",
       "    <tr>\n",
       "      <th>...</th>\n",
       "      <td>...</td>\n",
       "      <td>...</td>\n",
       "      <td>...</td>\n",
       "      <td>...</td>\n",
       "      <td>...</td>\n",
       "      <td>...</td>\n",
       "      <td>...</td>\n",
       "      <td>...</td>\n",
       "      <td>...</td>\n",
       "    </tr>\n",
       "    <tr>\n",
       "      <th>1477</th>\n",
       "      <td>2021-12-27</td>\n",
       "      <td>3700.000000</td>\n",
       "      <td>3653.100098</td>\n",
       "      <td>3671.000000</td>\n",
       "      <td>3696.100098</td>\n",
       "      <td>1534135.0</td>\n",
       "      <td>3664.929688</td>\n",
       "      <td>Dec</td>\n",
       "      <td>21</td>\n",
       "    </tr>\n",
       "    <tr>\n",
       "      <th>1478</th>\n",
       "      <td>2021-12-28</td>\n",
       "      <td>3725.000000</td>\n",
       "      <td>3693.850098</td>\n",
       "      <td>3710.000000</td>\n",
       "      <td>3706.550049</td>\n",
       "      <td>1456218.0</td>\n",
       "      <td>3675.291260</td>\n",
       "      <td>Dec</td>\n",
       "      <td>21</td>\n",
       "    </tr>\n",
       "    <tr>\n",
       "      <th>1479</th>\n",
       "      <td>2021-12-29</td>\n",
       "      <td>3719.949951</td>\n",
       "      <td>3685.000000</td>\n",
       "      <td>3692.250000</td>\n",
       "      <td>3694.699951</td>\n",
       "      <td>1456923.0</td>\n",
       "      <td>3663.541260</td>\n",
       "      <td>Dec</td>\n",
       "      <td>21</td>\n",
       "    </tr>\n",
       "    <tr>\n",
       "      <th>1480</th>\n",
       "      <td>2021-12-30</td>\n",
       "      <td>3740.000000</td>\n",
       "      <td>3680.000000</td>\n",
       "      <td>3681.350098</td>\n",
       "      <td>3733.750000</td>\n",
       "      <td>1966475.0</td>\n",
       "      <td>3702.261963</td>\n",
       "      <td>Dec</td>\n",
       "      <td>21</td>\n",
       "    </tr>\n",
       "    <tr>\n",
       "      <th>1481</th>\n",
       "      <td>2021-12-31</td>\n",
       "      <td>3760.000000</td>\n",
       "      <td>3731.300049</td>\n",
       "      <td>3742.800049</td>\n",
       "      <td>3738.350098</td>\n",
       "      <td>1207141.0</td>\n",
       "      <td>3706.823242</td>\n",
       "      <td>Dec</td>\n",
       "      <td>21</td>\n",
       "    </tr>\n",
       "  </tbody>\n",
       "</table>\n",
       "<p>1482 rows × 9 columns</p>\n",
       "</div>"
      ],
      "text/plain": [
       "           Date         High          Low         Open        Close  \\\n",
       "0    2016-01-01  1219.500000  1206.125000  1219.500000  1208.199951   \n",
       "1    2016-01-04  1207.000000  1183.025024  1205.074951  1184.800049   \n",
       "2    2016-01-05  1193.300049  1170.500000  1192.500000  1174.474976   \n",
       "3    2016-01-06  1193.074951  1175.099976  1175.099976  1190.800049   \n",
       "4    2016-01-07  1191.449951  1180.000000  1185.000000  1185.625000   \n",
       "...         ...          ...          ...          ...          ...   \n",
       "1477 2021-12-27  3700.000000  3653.100098  3671.000000  3696.100098   \n",
       "1478 2021-12-28  3725.000000  3693.850098  3710.000000  3706.550049   \n",
       "1479 2021-12-29  3719.949951  3685.000000  3692.250000  3694.699951   \n",
       "1480 2021-12-30  3740.000000  3680.000000  3681.350098  3733.750000   \n",
       "1481 2021-12-31  3760.000000  3731.300049  3742.800049  3738.350098   \n",
       "\n",
       "         Volume    Adj Close Month Year  \n",
       "0      712262.0  1068.501953   Jan   16  \n",
       "1     1870184.0  1047.807861   Jan   16  \n",
       "2     2678020.0  1038.676392   Jan   16  \n",
       "3     2653228.0  1053.113892   Jan   16  \n",
       "4     3199580.0  1048.537231   Jan   16  \n",
       "...         ...          ...   ...  ...  \n",
       "1477  1534135.0  3664.929688   Dec   21  \n",
       "1478  1456218.0  3675.291260   Dec   21  \n",
       "1479  1456923.0  3663.541260   Dec   21  \n",
       "1480  1966475.0  3702.261963   Dec   21  \n",
       "1481  1207141.0  3706.823242   Dec   21  \n",
       "\n",
       "[1482 rows x 9 columns]"
      ]
     },
     "execution_count": 35,
     "metadata": {},
     "output_type": "execute_result"
    }
   ],
   "source": [
    "tcs"
   ]
  },
  {
   "cell_type": "code",
   "execution_count": 36,
   "id": "8d57b43b",
   "metadata": {},
   "outputs": [
    {
     "data": {
      "text/plain": [
       "<Figure size 1008x432 with 0 Axes>"
      ]
     },
     "execution_count": 36,
     "metadata": {},
     "output_type": "execute_result"
    },
    {
     "data": {
      "image/png": "[encoded data removed]",
      "text/plain": [
       "<Figure size 432x288 with 1 Axes>"
      ]
     },
     "metadata": {
      "needs_background": "light"
     },
     "output_type": "display_data"
    },
    {
     "data": {
      "text/plain": [
       "<Figure size 1008x432 with 0 Axes>"
      ]
     },
     "metadata": {},
     "output_type": "display_data"
    }
   ],
   "source": [
    "sn.lineplot(x=\"Year\",y=\"Close\",data=tcs)\n",
    "plt.figure(figsize = (14,6))"
   ]
  },
  {
   "cell_type": "code",
   "execution_count": 37,
   "id": "84c700ba",
   "metadata": {},
   "outputs": [
    {
     "data": {
      "text/plain": [
       "<Figure size 1008x432 with 0 Axes>"
      ]
     },
     "execution_count": 37,
     "metadata": {},
     "output_type": "execute_result"
    },
    {
     "data": {
      "image/png": "[encoded data removed]",
      "text/plain": [
       "<Figure size 432x288 with 1 Axes>"
      ]
     },
     "metadata": {
      "needs_background": "light"
     },
     "output_type": "display_data"
    },
    {
     "data": {
      "text/plain": [
       "<Figure size 1008x432 with 0 Axes>"
      ]
     },
     "metadata": {},
     "output_type": "display_data"
    }
   ],
   "source": [
    "sn.lineplot(x=\"Month\",y=\"Close\",data=tcs)\n",
    "plt.figure(figsize = (14,6))"
   ]
  },
  {
   "cell_type": "code",
   "execution_count": 38,
   "id": "8c35ef02",
   "metadata": {},
   "outputs": [
    {
     "data": {
      "text/plain": [
       "<AxesSubplot:xlabel='Month', ylabel='Year'>"
      ]
     },
     "execution_count": 38,
     "metadata": {},
     "output_type": "execute_result"
    },
    {
     "data": {
      "image/png": "[encoded data removed]",
      "text/plain": [
       "<Figure size 864x576 with 2 Axes>"
      ]
     },
     "metadata": {
      "needs_background": "light"
     },
     "output_type": "display_data"
    }
   ],
   "source": [
    "plt.figure(figsize=(12,8))\n",
    "heatmap_y_Month = pd.pivot_table(data = tcs, values=\"Close\", index=\"Year\",columns=\"Month\", aggfunc=\"mean\", fill_value=0)\n",
    "sn.heatmap(heatmap_y_Month, annot=True, fmt=\"g\")"
   ]
  },
  {
   "cell_type": "code",
   "execution_count": 39,
   "id": "262001fd",
   "metadata": {},
   "outputs": [
    {
     "name": "stdout",
     "output_type": "stream",
     "text": [
      "Requirement already satisfied: mpl_finance in c:\\users\\hp\\anaconda3\\lib\\site-packages (0.10.1)\n",
      "Requirement already satisfied: matplotlib in c:\\users\\hp\\anaconda3\\lib\\site-packages (from mpl_finance) (3.3.4)\n",
      "Requirement already satisfied: cycler>=0.10 in c:\\users\\hp\\anaconda3\\lib\\site-packages (from matplotlib->mpl_finance) (0.10.0)\n",
      "Requirement already satisfied: pillow>=6.2.0 in c:\\users\\hp\\anaconda3\\lib\\site-packages (from matplotlib->mpl_finance) (8.2.0)\n",
      "Requirement already satisfied: kiwisolver>=1.0.1 in c:\\users\\hp\\anaconda3\\lib\\site-packages (from matplotlib->mpl_finance) (1.3.1)\n",
      "Requirement already satisfied: python-dateutil>=2.1 in c:\\users\\hp\\anaconda3\\lib\\site-packages (from matplotlib->mpl_finance) (2.8.1)\n",
      "Requirement already satisfied: numpy>=1.15 in c:\\users\\hp\\anaconda3\\lib\\site-packages (from matplotlib->mpl_finance) (1.20.1)\n",
      "Requirement already satisfied: pyparsing!=2.0.4,!=2.1.2,!=2.1.6,>=2.0.3 in c:\\users\\hp\\anaconda3\\lib\\site-packages (from matplotlib->mpl_finance) (2.4.7)\n",
      "Requirement already satisfied: six in c:\\users\\hp\\anaconda3\\lib\\site-packages (from cycler>=0.10->matplotlib->mpl_finance) (1.15.0)\n"
     ]
    }
   ],
   "source": [
    "!pip install mpl_finance"
   ]
  },
  {
   "cell_type": "code",
   "execution_count": 40,
   "id": "26f30227",
   "metadata": {},
   "outputs": [
    {
     "data": {
      "text/plain": [
       "<Figure size 1080x504 with 0 Axes>"
      ]
     },
     "execution_count": 40,
     "metadata": {},
     "output_type": "execute_result"
    },
    {
     "data": {
      "text/plain": [
       "<Figure size 1080x504 with 0 Axes>"
      ]
     },
     "metadata": {},
     "output_type": "display_data"
    }
   ],
   "source": [
    "# Boxplot for each month\n",
    "plt.figure( figsize=(15,7))"
   ]
  },
  {
   "cell_type": "code",
   "execution_count": 41,
   "id": "334d1047",
   "metadata": {},
   "outputs": [
    {
     "data": {
      "text/plain": [
       "<AxesSubplot:xlabel='Year', ylabel='Close'>"
      ]
     },
     "execution_count": 41,
     "metadata": {},
     "output_type": "execute_result"
    },
    {
     "data": {
      "image/png": "[encoded data removed]",
      "text/plain": [
       "<Figure size 432x288 with 1 Axes>"
      ]
     },
     "metadata": {
      "needs_background": "light"
     },
     "output_type": "display_data"
    }
   ],
   "source": [
    "plt.subplot(211)\n",
    "sn.boxplot(x=\"Year\",y=\"Close\",data=tcs)"
   ]
  },
  {
   "cell_type": "code",
   "execution_count": 42,
   "id": "6d894598",
   "metadata": {},
   "outputs": [
    {
     "data": {
      "text/plain": [
       "<AxesSubplot:xlabel='Month', ylabel='Close'>"
      ]
     },
     "execution_count": 42,
     "metadata": {},
     "output_type": "execute_result"
    },
    {
     "data": {
      "image/png": "[encoded data removed]",
      "text/plain": [
       "<Figure size 432x288 with 1 Axes>"
      ]
     },
     "metadata": {
      "needs_background": "light"
     },
     "output_type": "display_data"
    }
   ],
   "source": [
    "plt.subplot(211)\n",
    "sn.boxplot(x=\"Month\",y=\"Close\",data=tcs)"
   ]
  },
  {
   "cell_type": "markdown",
   "id": "fe178650",
   "metadata": {},
   "source": [
    "# 3.2 Calculating  \"Daily Returns\"\n",
    "The daily return measures the Rupees change in a stock's price as a percentage of the previous day's closing price. A positive return means the stock has grown in value, while a negative return means it has lost value.\n",
    "\n",
    "To calculate your daily return as a percentage we have a function pct_change"
   ]
  },
  {
   "cell_type": "code",
   "execution_count": 43,
   "id": "b4d4992b",
   "metadata": {},
   "outputs": [],
   "source": [
    "tcs[\"Daily return\"]=tcs['Close'].pct_change()"
   ]
  },
  {
   "cell_type": "code",
   "execution_count": 44,
   "id": "c3d911c2",
   "metadata": {},
   "outputs": [
    {
     "data": {
      "text/html": [
       "<div>\n",
       "<style scoped>\n",
       "    .dataframe tbody tr th:only-of-type {\n",
       "        vertical-align: middle;\n",
       "    }\n",
       "\n",
       "    .dataframe tbody tr th {\n",
       "        vertical-align: top;\n",
       "    }\n",
       "\n",
       "    .dataframe thead th {\n",
       "        text-align: right;\n",
       "    }\n",
       "</style>\n",
       "<table border=\"1\" class=\"dataframe\">\n",
       "  <thead>\n",
       "    <tr style=\"text-align: right;\">\n",
       "      <th></th>\n",
       "      <th>Date</th>\n",
       "      <th>High</th>\n",
       "      <th>Low</th>\n",
       "      <th>Open</th>\n",
       "      <th>Close</th>\n",
       "      <th>Volume</th>\n",
       "      <th>Adj Close</th>\n",
       "      <th>Month</th>\n",
       "      <th>Year</th>\n",
       "      <th>Daily return</th>\n",
       "    </tr>\n",
       "  </thead>\n",
       "  <tbody>\n",
       "    <tr>\n",
       "      <th>0</th>\n",
       "      <td>2016-01-01</td>\n",
       "      <td>1219.500000</td>\n",
       "      <td>1206.125000</td>\n",
       "      <td>1219.500000</td>\n",
       "      <td>1208.199951</td>\n",
       "      <td>712262.0</td>\n",
       "      <td>1068.501953</td>\n",
       "      <td>Jan</td>\n",
       "      <td>16</td>\n",
       "      <td>NaN</td>\n",
       "    </tr>\n",
       "    <tr>\n",
       "      <th>1</th>\n",
       "      <td>2016-01-04</td>\n",
       "      <td>1207.000000</td>\n",
       "      <td>1183.025024</td>\n",
       "      <td>1205.074951</td>\n",
       "      <td>1184.800049</td>\n",
       "      <td>1870184.0</td>\n",
       "      <td>1047.807861</td>\n",
       "      <td>Jan</td>\n",
       "      <td>16</td>\n",
       "      <td>-0.019368</td>\n",
       "    </tr>\n",
       "    <tr>\n",
       "      <th>2</th>\n",
       "      <td>2016-01-05</td>\n",
       "      <td>1193.300049</td>\n",
       "      <td>1170.500000</td>\n",
       "      <td>1192.500000</td>\n",
       "      <td>1174.474976</td>\n",
       "      <td>2678020.0</td>\n",
       "      <td>1038.676392</td>\n",
       "      <td>Jan</td>\n",
       "      <td>16</td>\n",
       "      <td>-0.008715</td>\n",
       "    </tr>\n",
       "    <tr>\n",
       "      <th>3</th>\n",
       "      <td>2016-01-06</td>\n",
       "      <td>1193.074951</td>\n",
       "      <td>1175.099976</td>\n",
       "      <td>1175.099976</td>\n",
       "      <td>1190.800049</td>\n",
       "      <td>2653228.0</td>\n",
       "      <td>1053.113892</td>\n",
       "      <td>Jan</td>\n",
       "      <td>16</td>\n",
       "      <td>0.013900</td>\n",
       "    </tr>\n",
       "    <tr>\n",
       "      <th>4</th>\n",
       "      <td>2016-01-07</td>\n",
       "      <td>1191.449951</td>\n",
       "      <td>1180.000000</td>\n",
       "      <td>1185.000000</td>\n",
       "      <td>1185.625000</td>\n",
       "      <td>3199580.0</td>\n",
       "      <td>1048.537231</td>\n",
       "      <td>Jan</td>\n",
       "      <td>16</td>\n",
       "      <td>-0.004346</td>\n",
       "    </tr>\n",
       "    <tr>\n",
       "      <th>...</th>\n",
       "      <td>...</td>\n",
       "      <td>...</td>\n",
       "      <td>...</td>\n",
       "      <td>...</td>\n",
       "      <td>...</td>\n",
       "      <td>...</td>\n",
       "      <td>...</td>\n",
       "      <td>...</td>\n",
       "      <td>...</td>\n",
       "      <td>...</td>\n",
       "    </tr>\n",
       "    <tr>\n",
       "      <th>1477</th>\n",
       "      <td>2021-12-27</td>\n",
       "      <td>3700.000000</td>\n",
       "      <td>3653.100098</td>\n",
       "      <td>3671.000000</td>\n",
       "      <td>3696.100098</td>\n",
       "      <td>1534135.0</td>\n",
       "      <td>3664.929688</td>\n",
       "      <td>Dec</td>\n",
       "      <td>21</td>\n",
       "      <td>0.006865</td>\n",
       "    </tr>\n",
       "    <tr>\n",
       "      <th>1478</th>\n",
       "      <td>2021-12-28</td>\n",
       "      <td>3725.000000</td>\n",
       "      <td>3693.850098</td>\n",
       "      <td>3710.000000</td>\n",
       "      <td>3706.550049</td>\n",
       "      <td>1456218.0</td>\n",
       "      <td>3675.291260</td>\n",
       "      <td>Dec</td>\n",
       "      <td>21</td>\n",
       "      <td>0.002827</td>\n",
       "    </tr>\n",
       "    <tr>\n",
       "      <th>1479</th>\n",
       "      <td>2021-12-29</td>\n",
       "      <td>3719.949951</td>\n",
       "      <td>3685.000000</td>\n",
       "      <td>3692.250000</td>\n",
       "      <td>3694.699951</td>\n",
       "      <td>1456923.0</td>\n",
       "      <td>3663.541260</td>\n",
       "      <td>Dec</td>\n",
       "      <td>21</td>\n",
       "      <td>-0.003197</td>\n",
       "    </tr>\n",
       "    <tr>\n",
       "      <th>1480</th>\n",
       "      <td>2021-12-30</td>\n",
       "      <td>3740.000000</td>\n",
       "      <td>3680.000000</td>\n",
       "      <td>3681.350098</td>\n",
       "      <td>3733.750000</td>\n",
       "      <td>1966475.0</td>\n",
       "      <td>3702.261963</td>\n",
       "      <td>Dec</td>\n",
       "      <td>21</td>\n",
       "      <td>0.010569</td>\n",
       "    </tr>\n",
       "    <tr>\n",
       "      <th>1481</th>\n",
       "      <td>2021-12-31</td>\n",
       "      <td>3760.000000</td>\n",
       "      <td>3731.300049</td>\n",
       "      <td>3742.800049</td>\n",
       "      <td>3738.350098</td>\n",
       "      <td>1207141.0</td>\n",
       "      <td>3706.823242</td>\n",
       "      <td>Dec</td>\n",
       "      <td>21</td>\n",
       "      <td>0.001232</td>\n",
       "    </tr>\n",
       "  </tbody>\n",
       "</table>\n",
       "<p>1482 rows × 10 columns</p>\n",
       "</div>"
      ],
      "text/plain": [
       "           Date         High          Low         Open        Close  \\\n",
       "0    2016-01-01  1219.500000  1206.125000  1219.500000  1208.199951   \n",
       "1    2016-01-04  1207.000000  1183.025024  1205.074951  1184.800049   \n",
       "2    2016-01-05  1193.300049  1170.500000  1192.500000  1174.474976   \n",
       "3    2016-01-06  1193.074951  1175.099976  1175.099976  1190.800049   \n",
       "4    2016-01-07  1191.449951  1180.000000  1185.000000  1185.625000   \n",
       "...         ...          ...          ...          ...          ...   \n",
       "1477 2021-12-27  3700.000000  3653.100098  3671.000000  3696.100098   \n",
       "1478 2021-12-28  3725.000000  3693.850098  3710.000000  3706.550049   \n",
       "1479 2021-12-29  3719.949951  3685.000000  3692.250000  3694.699951   \n",
       "1480 2021-12-30  3740.000000  3680.000000  3681.350098  3733.750000   \n",
       "1481 2021-12-31  3760.000000  3731.300049  3742.800049  3738.350098   \n",
       "\n",
       "         Volume    Adj Close Month Year  Daily return  \n",
       "0      712262.0  1068.501953   Jan   16           NaN  \n",
       "1     1870184.0  1047.807861   Jan   16     -0.019368  \n",
       "2     2678020.0  1038.676392   Jan   16     -0.008715  \n",
       "3     2653228.0  1053.113892   Jan   16      0.013900  \n",
       "4     3199580.0  1048.537231   Jan   16     -0.004346  \n",
       "...         ...          ...   ...  ...           ...  \n",
       "1477  1534135.0  3664.929688   Dec   21      0.006865  \n",
       "1478  1456218.0  3675.291260   Dec   21      0.002827  \n",
       "1479  1456923.0  3663.541260   Dec   21     -0.003197  \n",
       "1480  1966475.0  3702.261963   Dec   21      0.010569  \n",
       "1481  1207141.0  3706.823242   Dec   21      0.001232  \n",
       "\n",
       "[1482 rows x 10 columns]"
      ]
     },
     "execution_count": 44,
     "metadata": {},
     "output_type": "execute_result"
    }
   ],
   "source": [
    "tcs"
   ]
  },
  {
   "cell_type": "markdown",
   "id": "a1f586ab",
   "metadata": {},
   "source": [
    "# first data of daily return is always zero as it says Rt=(It/It-1)-1"
   ]
  },
  {
   "cell_type": "code",
   "execution_count": 45,
   "id": "c2d902e9",
   "metadata": {},
   "outputs": [
    {
     "name": "stderr",
     "output_type": "stream",
     "text": [
      "C:\\Users\\HP\\anaconda3\\lib\\site-packages\\seaborn\\distributions.py:2557: FutureWarning: `distplot` is a deprecated function and will be removed in a future version. Please adapt your code to use either `displot` (a figure-level function with similar flexibility) or `histplot` (an axes-level function for histograms).\n",
      "  warnings.warn(msg, FutureWarning)\n"
     ]
    },
    {
     "data": {
      "text/plain": [
       "<AxesSubplot:xlabel='Daily return', ylabel='Density'>"
      ]
     },
     "execution_count": 45,
     "metadata": {},
     "output_type": "execute_result"
    },
    {
     "data": {
      "image/png": "[encoded data removed]",
      "text/plain": [
       "<Figure size 432x288 with 1 Axes>"
      ]
     },
     "metadata": {
      "needs_background": "light"
     },
     "output_type": "display_data"
    }
   ],
   "source": [
    "sn.distplot(tcs[\"Daily return\"],bins=(50))"
   ]
  },
  {
   "cell_type": "markdown",
   "id": "5a1afdca",
   "metadata": {},
   "source": []
  },
  {
   "cell_type": "markdown",
   "id": "32bc7357",
   "metadata": {},
   "source": [
    "#  Resampling methodology and Visualizing (Year End)"
   ]
  },
  {
   "cell_type": "markdown",
   "id": "d215ec32",
   "metadata": {},
   "source": [
    "# From these Method we can infer the Entire Data Min or Max Closing/Opening Prices 'End of the Year'\n"
   ]
  },
  {
   "cell_type": "code",
   "execution_count": 46,
   "id": "4818296f",
   "metadata": {},
   "outputs": [],
   "source": [
    "# Resampling methodology \n",
    "#Here we use Resample to find each variables min/Max value\n",
    " # Here A is End of Year (Where we can come up with \"Min/Max\" End of the year Values for \"Close\" Predictor(variable) "
   ]
  },
  {
   "cell_type": "code",
   "execution_count": 72,
   "id": "8527b449",
   "metadata": {},
   "outputs": [],
   "source": [
    "tcs_df = pd.DataFrame(tcs, columns = tcs.columns)  "
   ]
  },
  {
   "cell_type": "code",
   "execution_count": 73,
   "id": "479b8d4d",
   "metadata": {},
   "outputs": [
    {
     "data": {
      "text/html": [
       "<div>\n",
       "<style scoped>\n",
       "    .dataframe tbody tr th:only-of-type {\n",
       "        vertical-align: middle;\n",
       "    }\n",
       "\n",
       "    .dataframe tbody tr th {\n",
       "        vertical-align: top;\n",
       "    }\n",
       "\n",
       "    .dataframe thead th {\n",
       "        text-align: right;\n",
       "    }\n",
       "</style>\n",
       "<table border=\"1\" class=\"dataframe\">\n",
       "  <thead>\n",
       "    <tr style=\"text-align: right;\">\n",
       "      <th></th>\n",
       "      <th>High</th>\n",
       "      <th>Low</th>\n",
       "      <th>Open</th>\n",
       "      <th>Close</th>\n",
       "      <th>Volume</th>\n",
       "      <th>Adj Close</th>\n",
       "      <th>Month</th>\n",
       "      <th>Year</th>\n",
       "      <th>Daily return</th>\n",
       "    </tr>\n",
       "    <tr>\n",
       "      <th>Date</th>\n",
       "      <th></th>\n",
       "      <th></th>\n",
       "      <th></th>\n",
       "      <th></th>\n",
       "      <th></th>\n",
       "      <th></th>\n",
       "      <th></th>\n",
       "      <th></th>\n",
       "      <th></th>\n",
       "    </tr>\n",
       "  </thead>\n",
       "  <tbody>\n",
       "    <tr>\n",
       "      <th>2016-01-01</th>\n",
       "      <td>1219.500000</td>\n",
       "      <td>1206.125000</td>\n",
       "      <td>1219.500000</td>\n",
       "      <td>1208.199951</td>\n",
       "      <td>712262.0</td>\n",
       "      <td>1068.501953</td>\n",
       "      <td>Jan</td>\n",
       "      <td>16</td>\n",
       "      <td>NaN</td>\n",
       "    </tr>\n",
       "    <tr>\n",
       "      <th>2016-01-04</th>\n",
       "      <td>1207.000000</td>\n",
       "      <td>1183.025024</td>\n",
       "      <td>1205.074951</td>\n",
       "      <td>1184.800049</td>\n",
       "      <td>1870184.0</td>\n",
       "      <td>1047.807861</td>\n",
       "      <td>Jan</td>\n",
       "      <td>16</td>\n",
       "      <td>-0.019368</td>\n",
       "    </tr>\n",
       "    <tr>\n",
       "      <th>2016-01-05</th>\n",
       "      <td>1193.300049</td>\n",
       "      <td>1170.500000</td>\n",
       "      <td>1192.500000</td>\n",
       "      <td>1174.474976</td>\n",
       "      <td>2678020.0</td>\n",
       "      <td>1038.676392</td>\n",
       "      <td>Jan</td>\n",
       "      <td>16</td>\n",
       "      <td>-0.008715</td>\n",
       "    </tr>\n",
       "    <tr>\n",
       "      <th>2016-01-06</th>\n",
       "      <td>1193.074951</td>\n",
       "      <td>1175.099976</td>\n",
       "      <td>1175.099976</td>\n",
       "      <td>1190.800049</td>\n",
       "      <td>2653228.0</td>\n",
       "      <td>1053.113892</td>\n",
       "      <td>Jan</td>\n",
       "      <td>16</td>\n",
       "      <td>0.013900</td>\n",
       "    </tr>\n",
       "    <tr>\n",
       "      <th>2016-01-07</th>\n",
       "      <td>1191.449951</td>\n",
       "      <td>1180.000000</td>\n",
       "      <td>1185.000000</td>\n",
       "      <td>1185.625000</td>\n",
       "      <td>3199580.0</td>\n",
       "      <td>1048.537231</td>\n",
       "      <td>Jan</td>\n",
       "      <td>16</td>\n",
       "      <td>-0.004346</td>\n",
       "    </tr>\n",
       "    <tr>\n",
       "      <th>...</th>\n",
       "      <td>...</td>\n",
       "      <td>...</td>\n",
       "      <td>...</td>\n",
       "      <td>...</td>\n",
       "      <td>...</td>\n",
       "      <td>...</td>\n",
       "      <td>...</td>\n",
       "      <td>...</td>\n",
       "      <td>...</td>\n",
       "    </tr>\n",
       "    <tr>\n",
       "      <th>2021-12-27</th>\n",
       "      <td>3700.000000</td>\n",
       "      <td>3653.100098</td>\n",
       "      <td>3671.000000</td>\n",
       "      <td>3696.100098</td>\n",
       "      <td>1534135.0</td>\n",
       "      <td>3664.929688</td>\n",
       "      <td>Dec</td>\n",
       "      <td>21</td>\n",
       "      <td>0.006865</td>\n",
       "    </tr>\n",
       "    <tr>\n",
       "      <th>2021-12-28</th>\n",
       "      <td>3725.000000</td>\n",
       "      <td>3693.850098</td>\n",
       "      <td>3710.000000</td>\n",
       "      <td>3706.550049</td>\n",
       "      <td>1456218.0</td>\n",
       "      <td>3675.291260</td>\n",
       "      <td>Dec</td>\n",
       "      <td>21</td>\n",
       "      <td>0.002827</td>\n",
       "    </tr>\n",
       "    <tr>\n",
       "      <th>2021-12-29</th>\n",
       "      <td>3719.949951</td>\n",
       "      <td>3685.000000</td>\n",
       "      <td>3692.250000</td>\n",
       "      <td>3694.699951</td>\n",
       "      <td>1456923.0</td>\n",
       "      <td>3663.541260</td>\n",
       "      <td>Dec</td>\n",
       "      <td>21</td>\n",
       "      <td>-0.003197</td>\n",
       "    </tr>\n",
       "    <tr>\n",
       "      <th>2021-12-30</th>\n",
       "      <td>3740.000000</td>\n",
       "      <td>3680.000000</td>\n",
       "      <td>3681.350098</td>\n",
       "      <td>3733.750000</td>\n",
       "      <td>1966475.0</td>\n",
       "      <td>3702.261963</td>\n",
       "      <td>Dec</td>\n",
       "      <td>21</td>\n",
       "      <td>0.010569</td>\n",
       "    </tr>\n",
       "    <tr>\n",
       "      <th>2021-12-31</th>\n",
       "      <td>3760.000000</td>\n",
       "      <td>3731.300049</td>\n",
       "      <td>3742.800049</td>\n",
       "      <td>3738.350098</td>\n",
       "      <td>1207141.0</td>\n",
       "      <td>3706.823242</td>\n",
       "      <td>Dec</td>\n",
       "      <td>21</td>\n",
       "      <td>0.001232</td>\n",
       "    </tr>\n",
       "  </tbody>\n",
       "</table>\n",
       "<p>1482 rows × 9 columns</p>\n",
       "</div>"
      ],
      "text/plain": [
       "                   High          Low         Open        Close     Volume  \\\n",
       "Date                                                                        \n",
       "2016-01-01  1219.500000  1206.125000  1219.500000  1208.199951   712262.0   \n",
       "2016-01-04  1207.000000  1183.025024  1205.074951  1184.800049  1870184.0   \n",
       "2016-01-05  1193.300049  1170.500000  1192.500000  1174.474976  2678020.0   \n",
       "2016-01-06  1193.074951  1175.099976  1175.099976  1190.800049  2653228.0   \n",
       "2016-01-07  1191.449951  1180.000000  1185.000000  1185.625000  3199580.0   \n",
       "...                 ...          ...          ...          ...        ...   \n",
       "2021-12-27  3700.000000  3653.100098  3671.000000  3696.100098  1534135.0   \n",
       "2021-12-28  3725.000000  3693.850098  3710.000000  3706.550049  1456218.0   \n",
       "2021-12-29  3719.949951  3685.000000  3692.250000  3694.699951  1456923.0   \n",
       "2021-12-30  3740.000000  3680.000000  3681.350098  3733.750000  1966475.0   \n",
       "2021-12-31  3760.000000  3731.300049  3742.800049  3738.350098  1207141.0   \n",
       "\n",
       "              Adj Close Month Year  Daily return  \n",
       "Date                                              \n",
       "2016-01-01  1068.501953   Jan   16           NaN  \n",
       "2016-01-04  1047.807861   Jan   16     -0.019368  \n",
       "2016-01-05  1038.676392   Jan   16     -0.008715  \n",
       "2016-01-06  1053.113892   Jan   16      0.013900  \n",
       "2016-01-07  1048.537231   Jan   16     -0.004346  \n",
       "...                 ...   ...  ...           ...  \n",
       "2021-12-27  3664.929688   Dec   21      0.006865  \n",
       "2021-12-28  3675.291260   Dec   21      0.002827  \n",
       "2021-12-29  3663.541260   Dec   21     -0.003197  \n",
       "2021-12-30  3702.261963   Dec   21      0.010569  \n",
       "2021-12-31  3706.823242   Dec   21      0.001232  \n",
       "\n",
       "[1482 rows x 9 columns]"
      ]
     },
     "execution_count": 73,
     "metadata": {},
     "output_type": "execute_result"
    }
   ],
   "source": [
    "tcs_df"
   ]
  },
  {
   "cell_type": "code",
   "execution_count": 75,
   "id": "e6c011c7",
   "metadata": {},
   "outputs": [
    {
     "data": {
      "text/html": [
       "<div>\n",
       "<style scoped>\n",
       "    .dataframe tbody tr th:only-of-type {\n",
       "        vertical-align: middle;\n",
       "    }\n",
       "\n",
       "    .dataframe tbody tr th {\n",
       "        vertical-align: top;\n",
       "    }\n",
       "\n",
       "    .dataframe thead th {\n",
       "        text-align: right;\n",
       "    }\n",
       "</style>\n",
       "<table border=\"1\" class=\"dataframe\">\n",
       "  <thead>\n",
       "    <tr style=\"text-align: right;\">\n",
       "      <th></th>\n",
       "      <th>High</th>\n",
       "      <th>Low</th>\n",
       "      <th>Open</th>\n",
       "      <th>Close</th>\n",
       "      <th>Volume</th>\n",
       "      <th>Adj Close</th>\n",
       "      <th>Month</th>\n",
       "      <th>Year</th>\n",
       "      <th>Daily return</th>\n",
       "    </tr>\n",
       "    <tr>\n",
       "      <th>Date</th>\n",
       "      <th></th>\n",
       "      <th></th>\n",
       "      <th></th>\n",
       "      <th></th>\n",
       "      <th></th>\n",
       "      <th></th>\n",
       "      <th></th>\n",
       "      <th></th>\n",
       "      <th></th>\n",
       "    </tr>\n",
       "  </thead>\n",
       "  <tbody>\n",
       "    <tr>\n",
       "      <th>2016-12-31</th>\n",
       "      <td>1070.000000</td>\n",
       "      <td>1025.949951</td>\n",
       "      <td>1058.449951</td>\n",
       "      <td>1050.574951</td>\n",
       "      <td>712262.0</td>\n",
       "      <td>945.981140</td>\n",
       "      <td>Apr</td>\n",
       "      <td>16</td>\n",
       "      <td>-0.049645</td>\n",
       "    </tr>\n",
       "    <tr>\n",
       "      <th>2017-12-31</th>\n",
       "      <td>1109.500000</td>\n",
       "      <td>1076.500000</td>\n",
       "      <td>1085.025024</td>\n",
       "      <td>1083.949951</td>\n",
       "      <td>86822.0</td>\n",
       "      <td>978.817078</td>\n",
       "      <td>Apr</td>\n",
       "      <td>17</td>\n",
       "      <td>-0.044194</td>\n",
       "    </tr>\n",
       "    <tr>\n",
       "      <th>2018-12-31</th>\n",
       "      <td>1331.000000</td>\n",
       "      <td>1310.099976</td>\n",
       "      <td>1316.000000</td>\n",
       "      <td>1315.599976</td>\n",
       "      <td>144530.0</td>\n",
       "      <td>1207.946289</td>\n",
       "      <td>Apr</td>\n",
       "      <td>18</td>\n",
       "      <td>-0.054175</td>\n",
       "    </tr>\n",
       "    <tr>\n",
       "      <th>2019-12-31</th>\n",
       "      <td>1851.000000</td>\n",
       "      <td>1808.000000</td>\n",
       "      <td>1810.000000</td>\n",
       "      <td>1813.250000</td>\n",
       "      <td>224405.0</td>\n",
       "      <td>1689.650146</td>\n",
       "      <td>Apr</td>\n",
       "      <td>19</td>\n",
       "      <td>-0.037646</td>\n",
       "    </tr>\n",
       "    <tr>\n",
       "      <th>2020-12-31</th>\n",
       "      <td>1685.449951</td>\n",
       "      <td>1506.050049</td>\n",
       "      <td>1559.699951</td>\n",
       "      <td>1636.349976</td>\n",
       "      <td>298819.0</td>\n",
       "      <td>1589.931641</td>\n",
       "      <td>Apr</td>\n",
       "      <td>20</td>\n",
       "      <td>-0.094103</td>\n",
       "    </tr>\n",
       "    <tr>\n",
       "      <th>2021-12-31</th>\n",
       "      <td>2940.000000</td>\n",
       "      <td>2879.000000</td>\n",
       "      <td>2880.000000</td>\n",
       "      <td>2894.300049</td>\n",
       "      <td>328991.0</td>\n",
       "      <td>2844.245117</td>\n",
       "      <td>Apr</td>\n",
       "      <td>21</td>\n",
       "      <td>-0.063535</td>\n",
       "    </tr>\n",
       "  </tbody>\n",
       "</table>\n",
       "</div>"
      ],
      "text/plain": [
       "                   High          Low         Open        Close    Volume  \\\n",
       "Date                                                                       \n",
       "2016-12-31  1070.000000  1025.949951  1058.449951  1050.574951  712262.0   \n",
       "2017-12-31  1109.500000  1076.500000  1085.025024  1083.949951   86822.0   \n",
       "2018-12-31  1331.000000  1310.099976  1316.000000  1315.599976  144530.0   \n",
       "2019-12-31  1851.000000  1808.000000  1810.000000  1813.250000  224405.0   \n",
       "2020-12-31  1685.449951  1506.050049  1559.699951  1636.349976  298819.0   \n",
       "2021-12-31  2940.000000  2879.000000  2880.000000  2894.300049  328991.0   \n",
       "\n",
       "              Adj Close Month Year  Daily return  \n",
       "Date                                              \n",
       "2016-12-31   945.981140   Apr   16     -0.049645  \n",
       "2017-12-31   978.817078   Apr   17     -0.044194  \n",
       "2018-12-31  1207.946289   Apr   18     -0.054175  \n",
       "2019-12-31  1689.650146   Apr   19     -0.037646  \n",
       "2020-12-31  1589.931641   Apr   20     -0.094103  \n",
       "2021-12-31  2844.245117   Apr   21     -0.063535  "
      ]
     },
     "execution_count": 75,
     "metadata": {},
     "output_type": "execute_result"
    }
   ],
   "source": [
    "tcs_df.resample(rule='A').min()"
   ]
  },
  {
   "cell_type": "code",
   "execution_count": 86,
   "id": "f6906619",
   "metadata": {},
   "outputs": [
    {
     "data": {
      "text/plain": [
       "Text(0, 0.5, 'Minimum Stock Price')"
      ]
     },
     "execution_count": 86,
     "metadata": {},
     "output_type": "execute_result"
    },
    {
     "data": {
      "image/png": "[encoded data removed]",
      "text/plain": [
       "<Figure size 1080x504 with 1 Axes>"
      ]
     },
     "metadata": {
      "needs_background": "light"
     },
     "output_type": "display_data"
    }
   ],
   "source": [
    "plt.figure(figsize=(15,7))\n",
    "tcs_df.resample(rule='A').min()['Close'].plot()\n",
    "plt.title(\"minimum Close price For every Year end \")\n",
    "plt.xlabel(\"End of every year\")\n",
    "plt.ylabel(\"Minimum Stock Price\")\n"
   ]
  },
  {
   "cell_type": "markdown",
   "id": "7b4c646e",
   "metadata": {},
   "source": [
    "# minimum value of close price for every End of the Year ,it shows the trend is non linear "
   ]
  },
  {
   "cell_type": "code",
   "execution_count": 87,
   "id": "3667c86a",
   "metadata": {},
   "outputs": [
    {
     "data": {
      "text/plain": [
       "Text(0, 0.5, 'Maximum Stock Price')"
      ]
     },
     "execution_count": 87,
     "metadata": {},
     "output_type": "execute_result"
    },
    {
     "data": {
      "image/png": "[encoded data removed]",
      "text/plain": [
       "<Figure size 1080x504 with 1 Axes>"
      ]
     },
     "metadata": {
      "needs_background": "light"
     },
     "output_type": "display_data"
    }
   ],
   "source": [
    "plt.figure(figsize=(15,7))\n",
    "tcs_df.resample(rule='A').max()['Close'].plot()\n",
    "plt.title(\"maximum Close price For every Year end \")\n",
    "plt.xlabel(\"End of every year\")\n",
    "plt.ylabel(\"Maximum Stock Price\")"
   ]
  },
  {
   "cell_type": "markdown",
   "id": "92ad68a7",
   "metadata": {},
   "source": [
    "# down sampling"
   ]
  },
  {
   "cell_type": "code",
   "execution_count": 95,
   "id": "2ea8d635",
   "metadata": {},
   "outputs": [],
   "source": [
    "resample = tcs_df.resample('M') #M: Month Wise(avg of 30 Days as 1 Month value) ; Q : Quarter(3 Months avg) end frequency {https://pandas.pydata.org/pandas-docs/stable/user_guide/timeseries.html#offset-aliases}// series.resample:Resample a year by quarter using ‘start’ convention. Values are assigned to the first quarter of the period.\n",
    "Monthly_values = resample.mean()"
   ]
  },
  {
   "cell_type": "code",
   "execution_count": 96,
   "id": "03b58326",
   "metadata": {},
   "outputs": [
    {
     "data": {
      "text/html": [
       "<div>\n",
       "<style scoped>\n",
       "    .dataframe tbody tr th:only-of-type {\n",
       "        vertical-align: middle;\n",
       "    }\n",
       "\n",
       "    .dataframe tbody tr th {\n",
       "        vertical-align: top;\n",
       "    }\n",
       "\n",
       "    .dataframe thead th {\n",
       "        text-align: right;\n",
       "    }\n",
       "</style>\n",
       "<table border=\"1\" class=\"dataframe\">\n",
       "  <thead>\n",
       "    <tr style=\"text-align: right;\">\n",
       "      <th></th>\n",
       "      <th>High</th>\n",
       "      <th>Low</th>\n",
       "      <th>Open</th>\n",
       "      <th>Close</th>\n",
       "      <th>Volume</th>\n",
       "      <th>Adj Close</th>\n",
       "      <th>Daily return</th>\n",
       "    </tr>\n",
       "    <tr>\n",
       "      <th>Date</th>\n",
       "      <th></th>\n",
       "      <th></th>\n",
       "      <th></th>\n",
       "      <th></th>\n",
       "      <th></th>\n",
       "      <th></th>\n",
       "      <th></th>\n",
       "    </tr>\n",
       "  </thead>\n",
       "  <tbody>\n",
       "    <tr>\n",
       "      <th>2016-01-31</th>\n",
       "      <td>1174.232489</td>\n",
       "      <td>1152.652509</td>\n",
       "      <td>1165.307495</td>\n",
       "      <td>1163.202509</td>\n",
       "      <td>2.368732e+06</td>\n",
       "      <td>1029.450333</td>\n",
       "      <td>-0.000471</td>\n",
       "    </tr>\n",
       "    <tr>\n",
       "      <th>2016-02-29</th>\n",
       "      <td>1163.958322</td>\n",
       "      <td>1135.273810</td>\n",
       "      <td>1153.785720</td>\n",
       "      <td>1148.417858</td>\n",
       "      <td>1.639247e+06</td>\n",
       "      <td>1018.088059</td>\n",
       "      <td>-0.004354</td>\n",
       "    </tr>\n",
       "    <tr>\n",
       "      <th>2016-03-31</th>\n",
       "      <td>1206.136249</td>\n",
       "      <td>1178.489996</td>\n",
       "      <td>1189.682501</td>\n",
       "      <td>1197.172504</td>\n",
       "      <td>2.149884e+06</td>\n",
       "      <td>1061.309650</td>\n",
       "      <td>0.007443</td>\n",
       "    </tr>\n",
       "    <tr>\n",
       "      <th>2016-04-30</th>\n",
       "      <td>1251.847215</td>\n",
       "      <td>1225.133341</td>\n",
       "      <td>1236.563890</td>\n",
       "      <td>1240.294440</td>\n",
       "      <td>2.733160e+06</td>\n",
       "      <td>1099.537855</td>\n",
       "      <td>0.000432</td>\n",
       "    </tr>\n",
       "    <tr>\n",
       "      <th>2016-05-31</th>\n",
       "      <td>1274.778409</td>\n",
       "      <td>1251.513644</td>\n",
       "      <td>1264.212497</td>\n",
       "      <td>1264.574984</td>\n",
       "      <td>1.529988e+06</td>\n",
       "      <td>1121.062944</td>\n",
       "      <td>0.000694</td>\n",
       "    </tr>\n",
       "    <tr>\n",
       "      <th>...</th>\n",
       "      <td>...</td>\n",
       "      <td>...</td>\n",
       "      <td>...</td>\n",
       "      <td>...</td>\n",
       "      <td>...</td>\n",
       "      <td>...</td>\n",
       "      <td>...</td>\n",
       "    </tr>\n",
       "    <tr>\n",
       "      <th>2021-08-31</th>\n",
       "      <td>3503.752395</td>\n",
       "      <td>3438.111909</td>\n",
       "      <td>3454.864293</td>\n",
       "      <td>3482.064255</td>\n",
       "      <td>2.698955e+06</td>\n",
       "      <td>3446.086507</td>\n",
       "      <td>0.008591</td>\n",
       "    </tr>\n",
       "    <tr>\n",
       "      <th>2021-09-30</th>\n",
       "      <td>3875.592843</td>\n",
       "      <td>3796.678571</td>\n",
       "      <td>3839.130952</td>\n",
       "      <td>3834.135696</td>\n",
       "      <td>2.407886e+06</td>\n",
       "      <td>3794.520240</td>\n",
       "      <td>-0.000059</td>\n",
       "    </tr>\n",
       "    <tr>\n",
       "      <th>2021-10-31</th>\n",
       "      <td>3683.279993</td>\n",
       "      <td>3612.152502</td>\n",
       "      <td>3651.732507</td>\n",
       "      <td>3639.377490</td>\n",
       "      <td>3.562595e+06</td>\n",
       "      <td>3605.460034</td>\n",
       "      <td>-0.005103</td>\n",
       "    </tr>\n",
       "    <tr>\n",
       "      <th>2021-11-30</th>\n",
       "      <td>3522.277515</td>\n",
       "      <td>3463.817493</td>\n",
       "      <td>3492.724976</td>\n",
       "      <td>3493.282471</td>\n",
       "      <td>2.163394e+06</td>\n",
       "      <td>3463.822412</td>\n",
       "      <td>0.001933</td>\n",
       "    </tr>\n",
       "    <tr>\n",
       "      <th>2021-12-31</th>\n",
       "      <td>3659.452170</td>\n",
       "      <td>3600.410878</td>\n",
       "      <td>3628.484778</td>\n",
       "      <td>3631.141304</td>\n",
       "      <td>1.944542e+06</td>\n",
       "      <td>3600.518608</td>\n",
       "      <td>0.002562</td>\n",
       "    </tr>\n",
       "  </tbody>\n",
       "</table>\n",
       "<p>72 rows × 7 columns</p>\n",
       "</div>"
      ],
      "text/plain": [
       "                   High          Low         Open        Close        Volume  \\\n",
       "Date                                                                           \n",
       "2016-01-31  1174.232489  1152.652509  1165.307495  1163.202509  2.368732e+06   \n",
       "2016-02-29  1163.958322  1135.273810  1153.785720  1148.417858  1.639247e+06   \n",
       "2016-03-31  1206.136249  1178.489996  1189.682501  1197.172504  2.149884e+06   \n",
       "2016-04-30  1251.847215  1225.133341  1236.563890  1240.294440  2.733160e+06   \n",
       "2016-05-31  1274.778409  1251.513644  1264.212497  1264.574984  1.529988e+06   \n",
       "...                 ...          ...          ...          ...           ...   \n",
       "2021-08-31  3503.752395  3438.111909  3454.864293  3482.064255  2.698955e+06   \n",
       "2021-09-30  3875.592843  3796.678571  3839.130952  3834.135696  2.407886e+06   \n",
       "2021-10-31  3683.279993  3612.152502  3651.732507  3639.377490  3.562595e+06   \n",
       "2021-11-30  3522.277515  3463.817493  3492.724976  3493.282471  2.163394e+06   \n",
       "2021-12-31  3659.452170  3600.410878  3628.484778  3631.141304  1.944542e+06   \n",
       "\n",
       "              Adj Close  Daily return  \n",
       "Date                                   \n",
       "2016-01-31  1029.450333     -0.000471  \n",
       "2016-02-29  1018.088059     -0.004354  \n",
       "2016-03-31  1061.309650      0.007443  \n",
       "2016-04-30  1099.537855      0.000432  \n",
       "2016-05-31  1121.062944      0.000694  \n",
       "...                 ...           ...  \n",
       "2021-08-31  3446.086507      0.008591  \n",
       "2021-09-30  3794.520240     -0.000059  \n",
       "2021-10-31  3605.460034     -0.005103  \n",
       "2021-11-30  3463.822412      0.001933  \n",
       "2021-12-31  3600.518608      0.002562  \n",
       "\n",
       "[72 rows x 7 columns]"
      ]
     },
     "execution_count": 96,
     "metadata": {},
     "output_type": "execute_result"
    }
   ],
   "source": [
    "Monthly_values "
   ]
  },
  {
   "cell_type": "code",
   "execution_count": 97,
   "id": "73c61f15",
   "metadata": {},
   "outputs": [
    {
     "data": {
      "image/png": "[encoded data removed]",
      "text/plain": [
       "<Figure size 720x360 with 1 Axes>"
      ]
     },
     "metadata": {
      "needs_background": "light"
     },
     "output_type": "display_data"
    }
   ],
   "source": [
    "plt.figure(figsize=(10,5))\n",
    "Monthly_values['Close'].plot()\n",
    "plt.title(\"Average of Close Price for Each Month\", fontsize=20)\n",
    "plt.xlabel('Total Years', size=15)  # X  axis  name\n",
    "plt.ylabel('Close Stock Price ',size=15)\n",
    "plt.show()"
   ]
  },
  {
   "cell_type": "markdown",
   "id": "2bd58a8e",
   "metadata": {},
   "source": [
    "# -> 4 Augmented Dickey Fuller Test (ADF)"
   ]
  },
  {
   "cell_type": "code",
   "execution_count": 98,
   "id": "30b44c6a",
   "metadata": {},
   "outputs": [],
   "source": [
    "#The Augmented Dickey Fuller Test (ADF) is unit root test for stationarity. \n",
    "\n",
    "#A stationary time series is one whose statistical properties such as mean, variance, autocorrelation, are all constant over time. Such statistics are useful as descriptors of future behaviour only if the series is stationary. \n",
    "\n",
    "#The null hypothesis for this test is that the time series is non-stationary. \n",
    "\n",
    "#The alternate hypothesis for this test is that the time series is stationary. \n"
   ]
  },
  {
   "cell_type": "code",
   "execution_count": 99,
   "id": "8185f6bb",
   "metadata": {},
   "outputs": [],
   "source": [
    "import statsmodels.api as sm\n",
    "from statsmodels.tsa.stattools import adfuller #Importing adfuller function from statsmodel.api\n",
    "%matplotlib inline"
   ]
  },
  {
   "cell_type": "code",
   "execution_count": 100,
   "id": "2928c0bd",
   "metadata": {},
   "outputs": [
    {
     "data": {
      "image/png": "[encoded data removed]",
      "text/plain": [
       "<Figure size 720x360 with 1 Axes>"
      ]
     },
     "metadata": {
      "needs_background": "light"
     },
     "output_type": "display_data"
    }
   ],
   "source": [
    "plt.figure(figsize=(10,5))\n",
    "tcs_df['Close'].plot()\n",
    "plt.show()\n",
    "#As it is evident from the T.S plot that the Mean of the T.S increases with increase in time\n",
    "# This is Not stationay in Nature! So how to Prove that is where Dickey Fuller Test Comes into picture\n"
   ]
  },
  {
   "cell_type": "markdown",
   "id": "1a8e1a28",
   "metadata": {},
   "source": [
    "If the ADF statistic(or the t-statistics that is derived) is less than < \"Critical Value\" ->Reject the Null Hypothesis\n",
    "\n",
    "If the ADF statistic(or the t-statistics that is derived) is greater than > \"Critical Value\" ->Failed to reject the Null Hypothesis"
   ]
  },
  {
   "cell_type": "code",
   "execution_count": 101,
   "id": "0344e2c2",
   "metadata": {},
   "outputs": [
    {
     "name": "stdout",
     "output_type": "stream",
     "text": [
      "ADF Statistic: 0.574140\n",
      "p-value: 0.986961\n",
      "Critical Values:\n",
      "\t1%: -3.435\n",
      "\t5%: -2.863\n",
      "\t10%: -2.568\n",
      "Failed to Reject Ho - Time Series is Non-Stationary\n"
     ]
    }
   ],
   "source": [
    "## Implementing \n",
    "X = tcs_df[\"Close\"].values  #Store the T.S of Close into an object \"X\"\n",
    "result = adfuller(X)       #Call adfuller function from statsmodule and store that result into a variable result\n",
    "print('ADF Statistic: %f' % result[0])\n",
    "print('p-value: %f' % result[1])\n",
    "print('Critical Values:')\n",
    "for key, value in result[4].items():\n",
    "    print('\\t%s: %.3f' % (key, value))\n",
    "\n",
    "if result[0] < result[4][\"5%\"]:\n",
    "    print (\"Reject Ho - Time Series is Stationary\")\n",
    "else:\n",
    "    print (\"Failed to Reject Ho - Time Series is Non-Stationary\")\n",
    "# Critical values for different Alpha values\n",
    "#So, from the result our ADF statistics : -1.64 is > than Critical Value at 5% i.e -2.863\n",
    "# We Failed to Reject Ho - Time Series is Non-Stationary"
   ]
  },
  {
   "cell_type": "code",
   "execution_count": 102,
   "id": "f8bec708",
   "metadata": {},
   "outputs": [],
   "source": [
    "            # ADF calculation from Scratch: \n",
    "# The 1st step to find ADF statistics: To find the difference of 2 consecutive rows od T.S and store in diff_value\n",
    "# and now diff_value becomes our Target, We are trying to fit a Linear Reg Model with target variable being the difference of T.S values and X is T.S itself\n",
    "tcs_df[\"Diff_Value\"] = tcs_df[\"Close\"].diff()"
   ]
  },
  {
   "cell_type": "code",
   "execution_count": 103,
   "id": "7f5018ee",
   "metadata": {},
   "outputs": [],
   "source": [
    "diff_values = tcs_df[\"Diff_Value\"].values #Defining the Target variable as Diff_Value column\n",
    "Y = diff_values[~np.isnan(diff_values)]    #With NAN values removed"
   ]
  },
  {
   "cell_type": "code",
   "execution_count": 104,
   "id": "7f87e16c",
   "metadata": {},
   "outputs": [],
   "source": [
    "ts_values_orig = tcs_df[\"Close\"].values #Since i have to match the no. of elements in Y and X(feature)\n",
    "ts_values = ts_values_orig[:-1]        #So we will drop the last element of feature variable(Actual T.S values)\n"
   ]
  },
  {
   "cell_type": "code",
   "execution_count": 105,
   "id": "209d8a35",
   "metadata": {},
   "outputs": [],
   "source": [
    "X = sm.add_constant(ts_values)  # Define \"ts_values\" variable to a var called as X"
   ]
  },
  {
   "cell_type": "code",
   "execution_count": 106,
   "id": "b0b772c6",
   "metadata": {},
   "outputs": [],
   "source": [
    "# Fit the Linear regression Model using OLS\n",
    "model = sm.OLS(Y,X)\n",
    "results = model.fit()"
   ]
  },
  {
   "cell_type": "code",
   "execution_count": 107,
   "id": "79763af1",
   "metadata": {},
   "outputs": [
    {
     "name": "stdout",
     "output_type": "stream",
     "text": [
      "                            OLS Regression Results                            \n",
      "==============================================================================\n",
      "Dep. Variable:                      y   R-squared:                       0.000\n",
      "Model:                            OLS   Adj. R-squared:                 -0.001\n",
      "Method:                 Least Squares   F-statistic:                    0.2024\n",
      "Date:                Sat, 04 Jun 2022   Prob (F-statistic):              0.653\n",
      "Time:                        13:44:58   Log-Likelihood:                -7263.2\n",
      "No. Observations:                1481   AIC:                         1.453e+04\n",
      "Df Residuals:                    1479   BIC:                         1.454e+04\n",
      "Df Model:                           1                                         \n",
      "Covariance Type:            nonrobust                                         \n",
      "==============================================================================\n",
      "                 coef    std err          t      P>|t|      [0.025      0.975]\n",
      "------------------------------------------------------------------------------\n",
      "const          0.7001      2.397      0.292      0.770      -4.001       5.401\n",
      "x1             0.0005      0.001      0.450      0.653      -0.002       0.003\n",
      "==============================================================================\n",
      "Omnibus:                      207.965   Durbin-Watson:                   2.053\n",
      "Prob(Omnibus):                  0.000   Jarque-Bera (JB):             2118.105\n",
      "Skew:                          -0.266   Prob(JB):                         0.00\n",
      "Kurtosis:                       8.834   Cond. No.                     6.02e+03\n",
      "==============================================================================\n",
      "\n",
      "Notes:\n",
      "[1] Standard Errors assume that the covariance matrix of the errors is correctly specified.\n",
      "[2] The condition number is large, 6.02e+03. This might indicate that there are\n",
      "strong multicollinearity or other numerical problems.\n"
     ]
    }
   ],
   "source": [
    "#Visualize the Summary from OLS model\n",
    "print(results.summary())\n",
    "\n",
    "#Target var was differnce of T.S and X(features is T.S itself)\n",
    "#We can infer the T-Statistic Value = -1.648 which is same as ADF statistics above!\n",
    "# T-Statistic signifies whether the T.S is stationary or Not"
   ]
  },
  {
   "cell_type": "code",
   "execution_count": 108,
   "id": "cb1bf808",
   "metadata": {},
   "outputs": [
    {
     "data": {
      "text/plain": [
       "0.44987863523285937"
      ]
     },
     "execution_count": 108,
     "metadata": {},
     "output_type": "execute_result"
    }
   ],
   "source": [
    "#To extract the T-Statistics\n",
    "results.tvalues[1]\n",
    "\n",
    "# We Failed to Reject Ho - Time Series is Non-Stationary : Here, 0.449> -2.863 (i.e T-Statistics > Critical Value)"
   ]
  },
  {
   "cell_type": "markdown",
   "id": "e27da711",
   "metadata": {},
   "source": [
    "# ->Converting Non-Stationary to Stationary\n",
    "So, sometimes if you want to remove the Noise/to improve the Signals in Forecasting we will have to go for the Transformation Methods \n",
    "(To convert Non-Linear data to Linear Data)\n",
    "So, we have different-different transformation, Some few Popular Transformations               1) Square Root      2) Log Transformation"
   ]
  },
  {
   "cell_type": "code",
   "execution_count": 110,
   "id": "5da7f300",
   "metadata": {},
   "outputs": [],
   "source": [
    "# Square root transformation\n",
    "from pandas import read_csv\n",
    "from pandas import DataFrame\n",
    "\n",
    "from numpy import sqrt\n",
    "from matplotlib import pyplot"
   ]
  },
  {
   "cell_type": "code",
   "execution_count": 111,
   "id": "0cece35e",
   "metadata": {},
   "outputs": [
    {
     "data": {
      "image/png": "[encoded data removed]",
      "text/plain": [
       "<Figure size 864x648 with 2 Axes>"
      ]
     },
     "metadata": {
      "needs_background": "light"
     },
     "output_type": "display_data"
    }
   ],
   "source": [
    "# Square root transformation line plot and Histogram\n",
    "\n",
    "Monthly_values['Close'] = sqrt(Monthly_values['Close'])\n",
    "\n",
    "plt.figure(figsize=(12,9))\n",
    "pyplot.subplot(211)\n",
    "pyplot.plot(Monthly_values['Close'])\n",
    "\n",
    "# histogram\n",
    "pyplot.subplot(212)\n",
    "pyplot.hist(Monthly_values['Close'])\n",
    "pyplot.show()\n",
    "\n",
    "#So using Square root transformation the tail on the disrtibitution is slightly decreased\n"
   ]
  },
  {
   "cell_type": "code",
   "execution_count": 112,
   "id": "8866bc1f",
   "metadata": {},
   "outputs": [
    {
     "data": {
      "image/png": "[encoded data removed]",
      "text/plain": [
       "<Figure size 864x648 with 2 Axes>"
      ]
     },
     "metadata": {
      "needs_background": "light"
     },
     "output_type": "display_data"
    }
   ],
   "source": [
    "# Log Transformation Line Plot and Histogram For MONTHLY Values\n",
    "from numpy import log\n",
    "\n",
    "Monthly_values['Close'] = log(Monthly_values['Close'])\n",
    "\n",
    "# line plot\n",
    "plt.figure(figsize=(12,9))\n",
    "pyplot.subplot(211)\n",
    "pyplot.plot(Monthly_values['Close'])\n",
    "\n",
    "# histogram\n",
    "pyplot.subplot(212)\n",
    "pyplot.hist(Monthly_values['Close'])\n",
    "pyplot.show()\n",
    "\n",
    "# Still its Not Converted to Stationary"
   ]
  },
  {
   "cell_type": "code",
   "execution_count": 122,
   "id": "c143ef96",
   "metadata": {},
   "outputs": [
    {
     "data": {
      "text/html": [
       "<div>\n",
       "<style scoped>\n",
       "    .dataframe tbody tr th:only-of-type {\n",
       "        vertical-align: middle;\n",
       "    }\n",
       "\n",
       "    .dataframe tbody tr th {\n",
       "        vertical-align: top;\n",
       "    }\n",
       "\n",
       "    .dataframe thead th {\n",
       "        text-align: right;\n",
       "    }\n",
       "</style>\n",
       "<table border=\"1\" class=\"dataframe\">\n",
       "  <thead>\n",
       "    <tr style=\"text-align: right;\">\n",
       "      <th></th>\n",
       "      <th>Date</th>\n",
       "      <th>High</th>\n",
       "      <th>Low</th>\n",
       "      <th>Open</th>\n",
       "      <th>Close</th>\n",
       "      <th>Volume</th>\n",
       "      <th>Adj Close</th>\n",
       "      <th>Month</th>\n",
       "      <th>Year</th>\n",
       "      <th>Daily return</th>\n",
       "      <th>Diff_Value</th>\n",
       "    </tr>\n",
       "  </thead>\n",
       "  <tbody>\n",
       "    <tr>\n",
       "      <th>0</th>\n",
       "      <td>2016-01-01</td>\n",
       "      <td>1219.500000</td>\n",
       "      <td>1206.125000</td>\n",
       "      <td>1219.500000</td>\n",
       "      <td>1208.199951</td>\n",
       "      <td>712262.0</td>\n",
       "      <td>1068.501953</td>\n",
       "      <td>Jan</td>\n",
       "      <td>16</td>\n",
       "      <td>NaN</td>\n",
       "      <td>NaN</td>\n",
       "    </tr>\n",
       "    <tr>\n",
       "      <th>1</th>\n",
       "      <td>2016-01-04</td>\n",
       "      <td>1207.000000</td>\n",
       "      <td>1183.025024</td>\n",
       "      <td>1205.074951</td>\n",
       "      <td>1184.800049</td>\n",
       "      <td>1870184.0</td>\n",
       "      <td>1047.807861</td>\n",
       "      <td>Jan</td>\n",
       "      <td>16</td>\n",
       "      <td>-0.019368</td>\n",
       "      <td>-23.399902</td>\n",
       "    </tr>\n",
       "    <tr>\n",
       "      <th>2</th>\n",
       "      <td>2016-01-05</td>\n",
       "      <td>1193.300049</td>\n",
       "      <td>1170.500000</td>\n",
       "      <td>1192.500000</td>\n",
       "      <td>1174.474976</td>\n",
       "      <td>2678020.0</td>\n",
       "      <td>1038.676392</td>\n",
       "      <td>Jan</td>\n",
       "      <td>16</td>\n",
       "      <td>-0.008715</td>\n",
       "      <td>-10.325073</td>\n",
       "    </tr>\n",
       "    <tr>\n",
       "      <th>3</th>\n",
       "      <td>2016-01-06</td>\n",
       "      <td>1193.074951</td>\n",
       "      <td>1175.099976</td>\n",
       "      <td>1175.099976</td>\n",
       "      <td>1190.800049</td>\n",
       "      <td>2653228.0</td>\n",
       "      <td>1053.113892</td>\n",
       "      <td>Jan</td>\n",
       "      <td>16</td>\n",
       "      <td>0.013900</td>\n",
       "      <td>16.325073</td>\n",
       "    </tr>\n",
       "    <tr>\n",
       "      <th>4</th>\n",
       "      <td>2016-01-07</td>\n",
       "      <td>1191.449951</td>\n",
       "      <td>1180.000000</td>\n",
       "      <td>1185.000000</td>\n",
       "      <td>1185.625000</td>\n",
       "      <td>3199580.0</td>\n",
       "      <td>1048.537231</td>\n",
       "      <td>Jan</td>\n",
       "      <td>16</td>\n",
       "      <td>-0.004346</td>\n",
       "      <td>-5.175049</td>\n",
       "    </tr>\n",
       "  </tbody>\n",
       "</table>\n",
       "</div>"
      ],
      "text/plain": [
       "        Date         High          Low         Open        Close     Volume  \\\n",
       "0 2016-01-01  1219.500000  1206.125000  1219.500000  1208.199951   712262.0   \n",
       "1 2016-01-04  1207.000000  1183.025024  1205.074951  1184.800049  1870184.0   \n",
       "2 2016-01-05  1193.300049  1170.500000  1192.500000  1174.474976  2678020.0   \n",
       "3 2016-01-06  1193.074951  1175.099976  1175.099976  1190.800049  2653228.0   \n",
       "4 2016-01-07  1191.449951  1180.000000  1185.000000  1185.625000  3199580.0   \n",
       "\n",
       "     Adj Close Month Year  Daily return  Diff_Value  \n",
       "0  1068.501953   Jan   16           NaN         NaN  \n",
       "1  1047.807861   Jan   16     -0.019368  -23.399902  \n",
       "2  1038.676392   Jan   16     -0.008715  -10.325073  \n",
       "3  1053.113892   Jan   16      0.013900   16.325073  \n",
       "4  1048.537231   Jan   16     -0.004346   -5.175049  "
      ]
     },
     "execution_count": 122,
     "metadata": {},
     "output_type": "execute_result"
    }
   ],
   "source": [
    "## OHE: \n",
    "###  Add Each Columns for Months (using get_dummies)\n",
    "tcs_df = tcs.reset_index()\n",
    "tcs_df.head()"
   ]
  },
  {
   "cell_type": "code",
   "execution_count": 123,
   "id": "7587acab",
   "metadata": {},
   "outputs": [],
   "source": [
    "## Readding the Month and Year Column from Date Column\n",
    "tcs_df[\"month\"] = tcs_df.Date.dt.strftime(\"%b\") # month extraction and creating month column\n",
    "\n",
    "tcs_df[\"year\"] = tcs_df.Date.dt.strftime(\"%Y\") # year extraction and creating year column\n"
   ]
  },
  {
   "cell_type": "code",
   "execution_count": 124,
   "id": "0a317a66",
   "metadata": {},
   "outputs": [
    {
     "data": {
      "text/html": [
       "<div>\n",
       "<style scoped>\n",
       "    .dataframe tbody tr th:only-of-type {\n",
       "        vertical-align: middle;\n",
       "    }\n",
       "\n",
       "    .dataframe tbody tr th {\n",
       "        vertical-align: top;\n",
       "    }\n",
       "\n",
       "    .dataframe thead th {\n",
       "        text-align: right;\n",
       "    }\n",
       "</style>\n",
       "<table border=\"1\" class=\"dataframe\">\n",
       "  <thead>\n",
       "    <tr style=\"text-align: right;\">\n",
       "      <th></th>\n",
       "      <th>Date</th>\n",
       "      <th>High</th>\n",
       "      <th>Low</th>\n",
       "      <th>Open</th>\n",
       "      <th>Close</th>\n",
       "      <th>Volume</th>\n",
       "      <th>Adj Close</th>\n",
       "      <th>Month</th>\n",
       "      <th>Year</th>\n",
       "      <th>Daily return</th>\n",
       "      <th>...</th>\n",
       "      <th>month_Dec</th>\n",
       "      <th>month_Feb</th>\n",
       "      <th>month_Jan</th>\n",
       "      <th>month_Jul</th>\n",
       "      <th>month_Jun</th>\n",
       "      <th>month_Mar</th>\n",
       "      <th>month_May</th>\n",
       "      <th>month_Nov</th>\n",
       "      <th>month_Oct</th>\n",
       "      <th>month_Sep</th>\n",
       "    </tr>\n",
       "  </thead>\n",
       "  <tbody>\n",
       "    <tr>\n",
       "      <th>0</th>\n",
       "      <td>2016-01-01</td>\n",
       "      <td>1219.500000</td>\n",
       "      <td>1206.125000</td>\n",
       "      <td>1219.500000</td>\n",
       "      <td>1208.199951</td>\n",
       "      <td>712262.0</td>\n",
       "      <td>1068.501953</td>\n",
       "      <td>Jan</td>\n",
       "      <td>16</td>\n",
       "      <td>NaN</td>\n",
       "      <td>...</td>\n",
       "      <td>0</td>\n",
       "      <td>0</td>\n",
       "      <td>1</td>\n",
       "      <td>0</td>\n",
       "      <td>0</td>\n",
       "      <td>0</td>\n",
       "      <td>0</td>\n",
       "      <td>0</td>\n",
       "      <td>0</td>\n",
       "      <td>0</td>\n",
       "    </tr>\n",
       "    <tr>\n",
       "      <th>1</th>\n",
       "      <td>2016-01-04</td>\n",
       "      <td>1207.000000</td>\n",
       "      <td>1183.025024</td>\n",
       "      <td>1205.074951</td>\n",
       "      <td>1184.800049</td>\n",
       "      <td>1870184.0</td>\n",
       "      <td>1047.807861</td>\n",
       "      <td>Jan</td>\n",
       "      <td>16</td>\n",
       "      <td>-0.019368</td>\n",
       "      <td>...</td>\n",
       "      <td>0</td>\n",
       "      <td>0</td>\n",
       "      <td>1</td>\n",
       "      <td>0</td>\n",
       "      <td>0</td>\n",
       "      <td>0</td>\n",
       "      <td>0</td>\n",
       "      <td>0</td>\n",
       "      <td>0</td>\n",
       "      <td>0</td>\n",
       "    </tr>\n",
       "    <tr>\n",
       "      <th>2</th>\n",
       "      <td>2016-01-05</td>\n",
       "      <td>1193.300049</td>\n",
       "      <td>1170.500000</td>\n",
       "      <td>1192.500000</td>\n",
       "      <td>1174.474976</td>\n",
       "      <td>2678020.0</td>\n",
       "      <td>1038.676392</td>\n",
       "      <td>Jan</td>\n",
       "      <td>16</td>\n",
       "      <td>-0.008715</td>\n",
       "      <td>...</td>\n",
       "      <td>0</td>\n",
       "      <td>0</td>\n",
       "      <td>1</td>\n",
       "      <td>0</td>\n",
       "      <td>0</td>\n",
       "      <td>0</td>\n",
       "      <td>0</td>\n",
       "      <td>0</td>\n",
       "      <td>0</td>\n",
       "      <td>0</td>\n",
       "    </tr>\n",
       "    <tr>\n",
       "      <th>3</th>\n",
       "      <td>2016-01-06</td>\n",
       "      <td>1193.074951</td>\n",
       "      <td>1175.099976</td>\n",
       "      <td>1175.099976</td>\n",
       "      <td>1190.800049</td>\n",
       "      <td>2653228.0</td>\n",
       "      <td>1053.113892</td>\n",
       "      <td>Jan</td>\n",
       "      <td>16</td>\n",
       "      <td>0.013900</td>\n",
       "      <td>...</td>\n",
       "      <td>0</td>\n",
       "      <td>0</td>\n",
       "      <td>1</td>\n",
       "      <td>0</td>\n",
       "      <td>0</td>\n",
       "      <td>0</td>\n",
       "      <td>0</td>\n",
       "      <td>0</td>\n",
       "      <td>0</td>\n",
       "      <td>0</td>\n",
       "    </tr>\n",
       "    <tr>\n",
       "      <th>4</th>\n",
       "      <td>2016-01-07</td>\n",
       "      <td>1191.449951</td>\n",
       "      <td>1180.000000</td>\n",
       "      <td>1185.000000</td>\n",
       "      <td>1185.625000</td>\n",
       "      <td>3199580.0</td>\n",
       "      <td>1048.537231</td>\n",
       "      <td>Jan</td>\n",
       "      <td>16</td>\n",
       "      <td>-0.004346</td>\n",
       "      <td>...</td>\n",
       "      <td>0</td>\n",
       "      <td>0</td>\n",
       "      <td>1</td>\n",
       "      <td>0</td>\n",
       "      <td>0</td>\n",
       "      <td>0</td>\n",
       "      <td>0</td>\n",
       "      <td>0</td>\n",
       "      <td>0</td>\n",
       "      <td>0</td>\n",
       "    </tr>\n",
       "    <tr>\n",
       "      <th>...</th>\n",
       "      <td>...</td>\n",
       "      <td>...</td>\n",
       "      <td>...</td>\n",
       "      <td>...</td>\n",
       "      <td>...</td>\n",
       "      <td>...</td>\n",
       "      <td>...</td>\n",
       "      <td>...</td>\n",
       "      <td>...</td>\n",
       "      <td>...</td>\n",
       "      <td>...</td>\n",
       "      <td>...</td>\n",
       "      <td>...</td>\n",
       "      <td>...</td>\n",
       "      <td>...</td>\n",
       "      <td>...</td>\n",
       "      <td>...</td>\n",
       "      <td>...</td>\n",
       "      <td>...</td>\n",
       "      <td>...</td>\n",
       "      <td>...</td>\n",
       "    </tr>\n",
       "    <tr>\n",
       "      <th>1477</th>\n",
       "      <td>2021-12-27</td>\n",
       "      <td>3700.000000</td>\n",
       "      <td>3653.100098</td>\n",
       "      <td>3671.000000</td>\n",
       "      <td>3696.100098</td>\n",
       "      <td>1534135.0</td>\n",
       "      <td>3664.929688</td>\n",
       "      <td>Dec</td>\n",
       "      <td>21</td>\n",
       "      <td>0.006865</td>\n",
       "      <td>...</td>\n",
       "      <td>1</td>\n",
       "      <td>0</td>\n",
       "      <td>0</td>\n",
       "      <td>0</td>\n",
       "      <td>0</td>\n",
       "      <td>0</td>\n",
       "      <td>0</td>\n",
       "      <td>0</td>\n",
       "      <td>0</td>\n",
       "      <td>0</td>\n",
       "    </tr>\n",
       "    <tr>\n",
       "      <th>1478</th>\n",
       "      <td>2021-12-28</td>\n",
       "      <td>3725.000000</td>\n",
       "      <td>3693.850098</td>\n",
       "      <td>3710.000000</td>\n",
       "      <td>3706.550049</td>\n",
       "      <td>1456218.0</td>\n",
       "      <td>3675.291260</td>\n",
       "      <td>Dec</td>\n",
       "      <td>21</td>\n",
       "      <td>0.002827</td>\n",
       "      <td>...</td>\n",
       "      <td>1</td>\n",
       "      <td>0</td>\n",
       "      <td>0</td>\n",
       "      <td>0</td>\n",
       "      <td>0</td>\n",
       "      <td>0</td>\n",
       "      <td>0</td>\n",
       "      <td>0</td>\n",
       "      <td>0</td>\n",
       "      <td>0</td>\n",
       "    </tr>\n",
       "    <tr>\n",
       "      <th>1479</th>\n",
       "      <td>2021-12-29</td>\n",
       "      <td>3719.949951</td>\n",
       "      <td>3685.000000</td>\n",
       "      <td>3692.250000</td>\n",
       "      <td>3694.699951</td>\n",
       "      <td>1456923.0</td>\n",
       "      <td>3663.541260</td>\n",
       "      <td>Dec</td>\n",
       "      <td>21</td>\n",
       "      <td>-0.003197</td>\n",
       "      <td>...</td>\n",
       "      <td>1</td>\n",
       "      <td>0</td>\n",
       "      <td>0</td>\n",
       "      <td>0</td>\n",
       "      <td>0</td>\n",
       "      <td>0</td>\n",
       "      <td>0</td>\n",
       "      <td>0</td>\n",
       "      <td>0</td>\n",
       "      <td>0</td>\n",
       "    </tr>\n",
       "    <tr>\n",
       "      <th>1480</th>\n",
       "      <td>2021-12-30</td>\n",
       "      <td>3740.000000</td>\n",
       "      <td>3680.000000</td>\n",
       "      <td>3681.350098</td>\n",
       "      <td>3733.750000</td>\n",
       "      <td>1966475.0</td>\n",
       "      <td>3702.261963</td>\n",
       "      <td>Dec</td>\n",
       "      <td>21</td>\n",
       "      <td>0.010569</td>\n",
       "      <td>...</td>\n",
       "      <td>1</td>\n",
       "      <td>0</td>\n",
       "      <td>0</td>\n",
       "      <td>0</td>\n",
       "      <td>0</td>\n",
       "      <td>0</td>\n",
       "      <td>0</td>\n",
       "      <td>0</td>\n",
       "      <td>0</td>\n",
       "      <td>0</td>\n",
       "    </tr>\n",
       "    <tr>\n",
       "      <th>1481</th>\n",
       "      <td>2021-12-31</td>\n",
       "      <td>3760.000000</td>\n",
       "      <td>3731.300049</td>\n",
       "      <td>3742.800049</td>\n",
       "      <td>3738.350098</td>\n",
       "      <td>1207141.0</td>\n",
       "      <td>3706.823242</td>\n",
       "      <td>Dec</td>\n",
       "      <td>21</td>\n",
       "      <td>0.001232</td>\n",
       "      <td>...</td>\n",
       "      <td>1</td>\n",
       "      <td>0</td>\n",
       "      <td>0</td>\n",
       "      <td>0</td>\n",
       "      <td>0</td>\n",
       "      <td>0</td>\n",
       "      <td>0</td>\n",
       "      <td>0</td>\n",
       "      <td>0</td>\n",
       "      <td>0</td>\n",
       "    </tr>\n",
       "  </tbody>\n",
       "</table>\n",
       "<p>1482 rows × 24 columns</p>\n",
       "</div>"
      ],
      "text/plain": [
       "           Date         High          Low         Open        Close  \\\n",
       "0    2016-01-01  1219.500000  1206.125000  1219.500000  1208.199951   \n",
       "1    2016-01-04  1207.000000  1183.025024  1205.074951  1184.800049   \n",
       "2    2016-01-05  1193.300049  1170.500000  1192.500000  1174.474976   \n",
       "3    2016-01-06  1193.074951  1175.099976  1175.099976  1190.800049   \n",
       "4    2016-01-07  1191.449951  1180.000000  1185.000000  1185.625000   \n",
       "...         ...          ...          ...          ...          ...   \n",
       "1477 2021-12-27  3700.000000  3653.100098  3671.000000  3696.100098   \n",
       "1478 2021-12-28  3725.000000  3693.850098  3710.000000  3706.550049   \n",
       "1479 2021-12-29  3719.949951  3685.000000  3692.250000  3694.699951   \n",
       "1480 2021-12-30  3740.000000  3680.000000  3681.350098  3733.750000   \n",
       "1481 2021-12-31  3760.000000  3731.300049  3742.800049  3738.350098   \n",
       "\n",
       "         Volume    Adj Close Month Year  Daily return  ...  month_Dec  \\\n",
       "0      712262.0  1068.501953   Jan   16           NaN  ...          0   \n",
       "1     1870184.0  1047.807861   Jan   16     -0.019368  ...          0   \n",
       "2     2678020.0  1038.676392   Jan   16     -0.008715  ...          0   \n",
       "3     2653228.0  1053.113892   Jan   16      0.013900  ...          0   \n",
       "4     3199580.0  1048.537231   Jan   16     -0.004346  ...          0   \n",
       "...         ...          ...   ...  ...           ...  ...        ...   \n",
       "1477  1534135.0  3664.929688   Dec   21      0.006865  ...          1   \n",
       "1478  1456218.0  3675.291260   Dec   21      0.002827  ...          1   \n",
       "1479  1456923.0  3663.541260   Dec   21     -0.003197  ...          1   \n",
       "1480  1966475.0  3702.261963   Dec   21      0.010569  ...          1   \n",
       "1481  1207141.0  3706.823242   Dec   21      0.001232  ...          1   \n",
       "\n",
       "     month_Feb  month_Jan  month_Jul  month_Jun  month_Mar  month_May  \\\n",
       "0            0          1          0          0          0          0   \n",
       "1            0          1          0          0          0          0   \n",
       "2            0          1          0          0          0          0   \n",
       "3            0          1          0          0          0          0   \n",
       "4            0          1          0          0          0          0   \n",
       "...        ...        ...        ...        ...        ...        ...   \n",
       "1477         0          0          0          0          0          0   \n",
       "1478         0          0          0          0          0          0   \n",
       "1479         0          0          0          0          0          0   \n",
       "1480         0          0          0          0          0          0   \n",
       "1481         0          0          0          0          0          0   \n",
       "\n",
       "      month_Nov  month_Oct  month_Sep  \n",
       "0             0          0          0  \n",
       "1             0          0          0  \n",
       "2             0          0          0  \n",
       "3             0          0          0  \n",
       "4             0          0          0  \n",
       "...         ...        ...        ...  \n",
       "1477          0          0          0  \n",
       "1478          0          0          0  \n",
       "1479          0          0          0  \n",
       "1480          0          0          0  \n",
       "1481          0          0          0  \n",
       "\n",
       "[1482 rows x 24 columns]"
      ]
     },
     "execution_count": 124,
     "metadata": {},
     "output_type": "execute_result"
    }
   ],
   "source": [
    "# Applying One Hot Encoding\n",
    "final_df = pd.get_dummies(tcs_df, columns = ['month'])\n",
    "final_df"
   ]
  },
  {
   "cell_type": "markdown",
   "id": "2dae80b4",
   "metadata": {},
   "source": [
    "# Add t and t² values for a range( 1 to 1487)"
   ]
  },
  {
   "cell_type": "code",
   "execution_count": 127,
   "id": "3ebabd0e",
   "metadata": {},
   "outputs": [],
   "source": [
    "from typing_extensions import final\n",
    "t= np.arange(1,1483)\n",
    "final_df['t']= t\n",
    "final_df['t_square']= (t *t)"
   ]
  },
  {
   "cell_type": "code",
   "execution_count": 128,
   "id": "2d379683",
   "metadata": {},
   "outputs": [
    {
     "data": {
      "text/html": [
       "<div>\n",
       "<style scoped>\n",
       "    .dataframe tbody tr th:only-of-type {\n",
       "        vertical-align: middle;\n",
       "    }\n",
       "\n",
       "    .dataframe tbody tr th {\n",
       "        vertical-align: top;\n",
       "    }\n",
       "\n",
       "    .dataframe thead th {\n",
       "        text-align: right;\n",
       "    }\n",
       "</style>\n",
       "<table border=\"1\" class=\"dataframe\">\n",
       "  <thead>\n",
       "    <tr style=\"text-align: right;\">\n",
       "      <th></th>\n",
       "      <th>Date</th>\n",
       "      <th>High</th>\n",
       "      <th>Low</th>\n",
       "      <th>Open</th>\n",
       "      <th>Close</th>\n",
       "      <th>Volume</th>\n",
       "      <th>Adj Close</th>\n",
       "      <th>Month</th>\n",
       "      <th>Year</th>\n",
       "      <th>Daily return</th>\n",
       "      <th>...</th>\n",
       "      <th>month_Jan</th>\n",
       "      <th>month_Jul</th>\n",
       "      <th>month_Jun</th>\n",
       "      <th>month_Mar</th>\n",
       "      <th>month_May</th>\n",
       "      <th>month_Nov</th>\n",
       "      <th>month_Oct</th>\n",
       "      <th>month_Sep</th>\n",
       "      <th>t</th>\n",
       "      <th>t_square</th>\n",
       "    </tr>\n",
       "  </thead>\n",
       "  <tbody>\n",
       "    <tr>\n",
       "      <th>0</th>\n",
       "      <td>2016-01-01</td>\n",
       "      <td>1219.500000</td>\n",
       "      <td>1206.125000</td>\n",
       "      <td>1219.500000</td>\n",
       "      <td>1208.199951</td>\n",
       "      <td>712262.0</td>\n",
       "      <td>1068.501953</td>\n",
       "      <td>Jan</td>\n",
       "      <td>16</td>\n",
       "      <td>NaN</td>\n",
       "      <td>...</td>\n",
       "      <td>1</td>\n",
       "      <td>0</td>\n",
       "      <td>0</td>\n",
       "      <td>0</td>\n",
       "      <td>0</td>\n",
       "      <td>0</td>\n",
       "      <td>0</td>\n",
       "      <td>0</td>\n",
       "      <td>1</td>\n",
       "      <td>1</td>\n",
       "    </tr>\n",
       "    <tr>\n",
       "      <th>1</th>\n",
       "      <td>2016-01-04</td>\n",
       "      <td>1207.000000</td>\n",
       "      <td>1183.025024</td>\n",
       "      <td>1205.074951</td>\n",
       "      <td>1184.800049</td>\n",
       "      <td>1870184.0</td>\n",
       "      <td>1047.807861</td>\n",
       "      <td>Jan</td>\n",
       "      <td>16</td>\n",
       "      <td>-0.019368</td>\n",
       "      <td>...</td>\n",
       "      <td>1</td>\n",
       "      <td>0</td>\n",
       "      <td>0</td>\n",
       "      <td>0</td>\n",
       "      <td>0</td>\n",
       "      <td>0</td>\n",
       "      <td>0</td>\n",
       "      <td>0</td>\n",
       "      <td>2</td>\n",
       "      <td>4</td>\n",
       "    </tr>\n",
       "    <tr>\n",
       "      <th>2</th>\n",
       "      <td>2016-01-05</td>\n",
       "      <td>1193.300049</td>\n",
       "      <td>1170.500000</td>\n",
       "      <td>1192.500000</td>\n",
       "      <td>1174.474976</td>\n",
       "      <td>2678020.0</td>\n",
       "      <td>1038.676392</td>\n",
       "      <td>Jan</td>\n",
       "      <td>16</td>\n",
       "      <td>-0.008715</td>\n",
       "      <td>...</td>\n",
       "      <td>1</td>\n",
       "      <td>0</td>\n",
       "      <td>0</td>\n",
       "      <td>0</td>\n",
       "      <td>0</td>\n",
       "      <td>0</td>\n",
       "      <td>0</td>\n",
       "      <td>0</td>\n",
       "      <td>3</td>\n",
       "      <td>9</td>\n",
       "    </tr>\n",
       "    <tr>\n",
       "      <th>3</th>\n",
       "      <td>2016-01-06</td>\n",
       "      <td>1193.074951</td>\n",
       "      <td>1175.099976</td>\n",
       "      <td>1175.099976</td>\n",
       "      <td>1190.800049</td>\n",
       "      <td>2653228.0</td>\n",
       "      <td>1053.113892</td>\n",
       "      <td>Jan</td>\n",
       "      <td>16</td>\n",
       "      <td>0.013900</td>\n",
       "      <td>...</td>\n",
       "      <td>1</td>\n",
       "      <td>0</td>\n",
       "      <td>0</td>\n",
       "      <td>0</td>\n",
       "      <td>0</td>\n",
       "      <td>0</td>\n",
       "      <td>0</td>\n",
       "      <td>0</td>\n",
       "      <td>4</td>\n",
       "      <td>16</td>\n",
       "    </tr>\n",
       "    <tr>\n",
       "      <th>4</th>\n",
       "      <td>2016-01-07</td>\n",
       "      <td>1191.449951</td>\n",
       "      <td>1180.000000</td>\n",
       "      <td>1185.000000</td>\n",
       "      <td>1185.625000</td>\n",
       "      <td>3199580.0</td>\n",
       "      <td>1048.537231</td>\n",
       "      <td>Jan</td>\n",
       "      <td>16</td>\n",
       "      <td>-0.004346</td>\n",
       "      <td>...</td>\n",
       "      <td>1</td>\n",
       "      <td>0</td>\n",
       "      <td>0</td>\n",
       "      <td>0</td>\n",
       "      <td>0</td>\n",
       "      <td>0</td>\n",
       "      <td>0</td>\n",
       "      <td>0</td>\n",
       "      <td>5</td>\n",
       "      <td>25</td>\n",
       "    </tr>\n",
       "    <tr>\n",
       "      <th>...</th>\n",
       "      <td>...</td>\n",
       "      <td>...</td>\n",
       "      <td>...</td>\n",
       "      <td>...</td>\n",
       "      <td>...</td>\n",
       "      <td>...</td>\n",
       "      <td>...</td>\n",
       "      <td>...</td>\n",
       "      <td>...</td>\n",
       "      <td>...</td>\n",
       "      <td>...</td>\n",
       "      <td>...</td>\n",
       "      <td>...</td>\n",
       "      <td>...</td>\n",
       "      <td>...</td>\n",
       "      <td>...</td>\n",
       "      <td>...</td>\n",
       "      <td>...</td>\n",
       "      <td>...</td>\n",
       "      <td>...</td>\n",
       "      <td>...</td>\n",
       "    </tr>\n",
       "    <tr>\n",
       "      <th>1477</th>\n",
       "      <td>2021-12-27</td>\n",
       "      <td>3700.000000</td>\n",
       "      <td>3653.100098</td>\n",
       "      <td>3671.000000</td>\n",
       "      <td>3696.100098</td>\n",
       "      <td>1534135.0</td>\n",
       "      <td>3664.929688</td>\n",
       "      <td>Dec</td>\n",
       "      <td>21</td>\n",
       "      <td>0.006865</td>\n",
       "      <td>...</td>\n",
       "      <td>0</td>\n",
       "      <td>0</td>\n",
       "      <td>0</td>\n",
       "      <td>0</td>\n",
       "      <td>0</td>\n",
       "      <td>0</td>\n",
       "      <td>0</td>\n",
       "      <td>0</td>\n",
       "      <td>1478</td>\n",
       "      <td>2184484</td>\n",
       "    </tr>\n",
       "    <tr>\n",
       "      <th>1478</th>\n",
       "      <td>2021-12-28</td>\n",
       "      <td>3725.000000</td>\n",
       "      <td>3693.850098</td>\n",
       "      <td>3710.000000</td>\n",
       "      <td>3706.550049</td>\n",
       "      <td>1456218.0</td>\n",
       "      <td>3675.291260</td>\n",
       "      <td>Dec</td>\n",
       "      <td>21</td>\n",
       "      <td>0.002827</td>\n",
       "      <td>...</td>\n",
       "      <td>0</td>\n",
       "      <td>0</td>\n",
       "      <td>0</td>\n",
       "      <td>0</td>\n",
       "      <td>0</td>\n",
       "      <td>0</td>\n",
       "      <td>0</td>\n",
       "      <td>0</td>\n",
       "      <td>1479</td>\n",
       "      <td>2187441</td>\n",
       "    </tr>\n",
       "    <tr>\n",
       "      <th>1479</th>\n",
       "      <td>2021-12-29</td>\n",
       "      <td>3719.949951</td>\n",
       "      <td>3685.000000</td>\n",
       "      <td>3692.250000</td>\n",
       "      <td>3694.699951</td>\n",
       "      <td>1456923.0</td>\n",
       "      <td>3663.541260</td>\n",
       "      <td>Dec</td>\n",
       "      <td>21</td>\n",
       "      <td>-0.003197</td>\n",
       "      <td>...</td>\n",
       "      <td>0</td>\n",
       "      <td>0</td>\n",
       "      <td>0</td>\n",
       "      <td>0</td>\n",
       "      <td>0</td>\n",
       "      <td>0</td>\n",
       "      <td>0</td>\n",
       "      <td>0</td>\n",
       "      <td>1480</td>\n",
       "      <td>2190400</td>\n",
       "    </tr>\n",
       "    <tr>\n",
       "      <th>1480</th>\n",
       "      <td>2021-12-30</td>\n",
       "      <td>3740.000000</td>\n",
       "      <td>3680.000000</td>\n",
       "      <td>3681.350098</td>\n",
       "      <td>3733.750000</td>\n",
       "      <td>1966475.0</td>\n",
       "      <td>3702.261963</td>\n",
       "      <td>Dec</td>\n",
       "      <td>21</td>\n",
       "      <td>0.010569</td>\n",
       "      <td>...</td>\n",
       "      <td>0</td>\n",
       "      <td>0</td>\n",
       "      <td>0</td>\n",
       "      <td>0</td>\n",
       "      <td>0</td>\n",
       "      <td>0</td>\n",
       "      <td>0</td>\n",
       "      <td>0</td>\n",
       "      <td>1481</td>\n",
       "      <td>2193361</td>\n",
       "    </tr>\n",
       "    <tr>\n",
       "      <th>1481</th>\n",
       "      <td>2021-12-31</td>\n",
       "      <td>3760.000000</td>\n",
       "      <td>3731.300049</td>\n",
       "      <td>3742.800049</td>\n",
       "      <td>3738.350098</td>\n",
       "      <td>1207141.0</td>\n",
       "      <td>3706.823242</td>\n",
       "      <td>Dec</td>\n",
       "      <td>21</td>\n",
       "      <td>0.001232</td>\n",
       "      <td>...</td>\n",
       "      <td>0</td>\n",
       "      <td>0</td>\n",
       "      <td>0</td>\n",
       "      <td>0</td>\n",
       "      <td>0</td>\n",
       "      <td>0</td>\n",
       "      <td>0</td>\n",
       "      <td>0</td>\n",
       "      <td>1482</td>\n",
       "      <td>2196324</td>\n",
       "    </tr>\n",
       "  </tbody>\n",
       "</table>\n",
       "<p>1482 rows × 26 columns</p>\n",
       "</div>"
      ],
      "text/plain": [
       "           Date         High          Low         Open        Close  \\\n",
       "0    2016-01-01  1219.500000  1206.125000  1219.500000  1208.199951   \n",
       "1    2016-01-04  1207.000000  1183.025024  1205.074951  1184.800049   \n",
       "2    2016-01-05  1193.300049  1170.500000  1192.500000  1174.474976   \n",
       "3    2016-01-06  1193.074951  1175.099976  1175.099976  1190.800049   \n",
       "4    2016-01-07  1191.449951  1180.000000  1185.000000  1185.625000   \n",
       "...         ...          ...          ...          ...          ...   \n",
       "1477 2021-12-27  3700.000000  3653.100098  3671.000000  3696.100098   \n",
       "1478 2021-12-28  3725.000000  3693.850098  3710.000000  3706.550049   \n",
       "1479 2021-12-29  3719.949951  3685.000000  3692.250000  3694.699951   \n",
       "1480 2021-12-30  3740.000000  3680.000000  3681.350098  3733.750000   \n",
       "1481 2021-12-31  3760.000000  3731.300049  3742.800049  3738.350098   \n",
       "\n",
       "         Volume    Adj Close Month Year  Daily return  ...  month_Jan  \\\n",
       "0      712262.0  1068.501953   Jan   16           NaN  ...          1   \n",
       "1     1870184.0  1047.807861   Jan   16     -0.019368  ...          1   \n",
       "2     2678020.0  1038.676392   Jan   16     -0.008715  ...          1   \n",
       "3     2653228.0  1053.113892   Jan   16      0.013900  ...          1   \n",
       "4     3199580.0  1048.537231   Jan   16     -0.004346  ...          1   \n",
       "...         ...          ...   ...  ...           ...  ...        ...   \n",
       "1477  1534135.0  3664.929688   Dec   21      0.006865  ...          0   \n",
       "1478  1456218.0  3675.291260   Dec   21      0.002827  ...          0   \n",
       "1479  1456923.0  3663.541260   Dec   21     -0.003197  ...          0   \n",
       "1480  1966475.0  3702.261963   Dec   21      0.010569  ...          0   \n",
       "1481  1207141.0  3706.823242   Dec   21      0.001232  ...          0   \n",
       "\n",
       "     month_Jul  month_Jun  month_Mar  month_May  month_Nov  month_Oct  \\\n",
       "0            0          0          0          0          0          0   \n",
       "1            0          0          0          0          0          0   \n",
       "2            0          0          0          0          0          0   \n",
       "3            0          0          0          0          0          0   \n",
       "4            0          0          0          0          0          0   \n",
       "...        ...        ...        ...        ...        ...        ...   \n",
       "1477         0          0          0          0          0          0   \n",
       "1478         0          0          0          0          0          0   \n",
       "1479         0          0          0          0          0          0   \n",
       "1480         0          0          0          0          0          0   \n",
       "1481         0          0          0          0          0          0   \n",
       "\n",
       "      month_Sep     t  t_square  \n",
       "0             0     1         1  \n",
       "1             0     2         4  \n",
       "2             0     3         9  \n",
       "3             0     4        16  \n",
       "4             0     5        25  \n",
       "...         ...   ...       ...  \n",
       "1477          0  1478   2184484  \n",
       "1478          0  1479   2187441  \n",
       "1479          0  1480   2190400  \n",
       "1480          0  1481   2193361  \n",
       "1481          0  1482   2196324  \n",
       "\n",
       "[1482 rows x 26 columns]"
      ]
     },
     "execution_count": 128,
     "metadata": {},
     "output_type": "execute_result"
    }
   ],
   "source": [
    "final_df"
   ]
  },
  {
   "cell_type": "markdown",
   "id": "74fb5e17",
   "metadata": {},
   "source": [
    "# Add Seperate Column for LOG Transformation of 'Close' column"
   ]
  },
  {
   "cell_type": "code",
   "execution_count": 129,
   "id": "f5d1390c",
   "metadata": {},
   "outputs": [
    {
     "data": {
      "text/html": [
       "<div>\n",
       "<style scoped>\n",
       "    .dataframe tbody tr th:only-of-type {\n",
       "        vertical-align: middle;\n",
       "    }\n",
       "\n",
       "    .dataframe tbody tr th {\n",
       "        vertical-align: top;\n",
       "    }\n",
       "\n",
       "    .dataframe thead th {\n",
       "        text-align: right;\n",
       "    }\n",
       "</style>\n",
       "<table border=\"1\" class=\"dataframe\">\n",
       "  <thead>\n",
       "    <tr style=\"text-align: right;\">\n",
       "      <th></th>\n",
       "      <th>Date</th>\n",
       "      <th>High</th>\n",
       "      <th>Low</th>\n",
       "      <th>Open</th>\n",
       "      <th>Close</th>\n",
       "      <th>Volume</th>\n",
       "      <th>Adj Close</th>\n",
       "      <th>Month</th>\n",
       "      <th>Year</th>\n",
       "      <th>Daily return</th>\n",
       "      <th>...</th>\n",
       "      <th>month_Jul</th>\n",
       "      <th>month_Jun</th>\n",
       "      <th>month_Mar</th>\n",
       "      <th>month_May</th>\n",
       "      <th>month_Nov</th>\n",
       "      <th>month_Oct</th>\n",
       "      <th>month_Sep</th>\n",
       "      <th>t</th>\n",
       "      <th>t_square</th>\n",
       "      <th>log_Close</th>\n",
       "    </tr>\n",
       "  </thead>\n",
       "  <tbody>\n",
       "    <tr>\n",
       "      <th>0</th>\n",
       "      <td>2016-01-01</td>\n",
       "      <td>1219.500000</td>\n",
       "      <td>1206.125000</td>\n",
       "      <td>1219.500000</td>\n",
       "      <td>1208.199951</td>\n",
       "      <td>712262.0</td>\n",
       "      <td>1068.501953</td>\n",
       "      <td>Jan</td>\n",
       "      <td>16</td>\n",
       "      <td>NaN</td>\n",
       "      <td>...</td>\n",
       "      <td>0</td>\n",
       "      <td>0</td>\n",
       "      <td>0</td>\n",
       "      <td>0</td>\n",
       "      <td>0</td>\n",
       "      <td>0</td>\n",
       "      <td>0</td>\n",
       "      <td>1</td>\n",
       "      <td>1</td>\n",
       "      <td>7.096887</td>\n",
       "    </tr>\n",
       "    <tr>\n",
       "      <th>1</th>\n",
       "      <td>2016-01-04</td>\n",
       "      <td>1207.000000</td>\n",
       "      <td>1183.025024</td>\n",
       "      <td>1205.074951</td>\n",
       "      <td>1184.800049</td>\n",
       "      <td>1870184.0</td>\n",
       "      <td>1047.807861</td>\n",
       "      <td>Jan</td>\n",
       "      <td>16</td>\n",
       "      <td>-0.019368</td>\n",
       "      <td>...</td>\n",
       "      <td>0</td>\n",
       "      <td>0</td>\n",
       "      <td>0</td>\n",
       "      <td>0</td>\n",
       "      <td>0</td>\n",
       "      <td>0</td>\n",
       "      <td>0</td>\n",
       "      <td>2</td>\n",
       "      <td>4</td>\n",
       "      <td>7.077329</td>\n",
       "    </tr>\n",
       "    <tr>\n",
       "      <th>2</th>\n",
       "      <td>2016-01-05</td>\n",
       "      <td>1193.300049</td>\n",
       "      <td>1170.500000</td>\n",
       "      <td>1192.500000</td>\n",
       "      <td>1174.474976</td>\n",
       "      <td>2678020.0</td>\n",
       "      <td>1038.676392</td>\n",
       "      <td>Jan</td>\n",
       "      <td>16</td>\n",
       "      <td>-0.008715</td>\n",
       "      <td>...</td>\n",
       "      <td>0</td>\n",
       "      <td>0</td>\n",
       "      <td>0</td>\n",
       "      <td>0</td>\n",
       "      <td>0</td>\n",
       "      <td>0</td>\n",
       "      <td>0</td>\n",
       "      <td>3</td>\n",
       "      <td>9</td>\n",
       "      <td>7.068576</td>\n",
       "    </tr>\n",
       "    <tr>\n",
       "      <th>3</th>\n",
       "      <td>2016-01-06</td>\n",
       "      <td>1193.074951</td>\n",
       "      <td>1175.099976</td>\n",
       "      <td>1175.099976</td>\n",
       "      <td>1190.800049</td>\n",
       "      <td>2653228.0</td>\n",
       "      <td>1053.113892</td>\n",
       "      <td>Jan</td>\n",
       "      <td>16</td>\n",
       "      <td>0.013900</td>\n",
       "      <td>...</td>\n",
       "      <td>0</td>\n",
       "      <td>0</td>\n",
       "      <td>0</td>\n",
       "      <td>0</td>\n",
       "      <td>0</td>\n",
       "      <td>0</td>\n",
       "      <td>0</td>\n",
       "      <td>4</td>\n",
       "      <td>16</td>\n",
       "      <td>7.082381</td>\n",
       "    </tr>\n",
       "    <tr>\n",
       "      <th>4</th>\n",
       "      <td>2016-01-07</td>\n",
       "      <td>1191.449951</td>\n",
       "      <td>1180.000000</td>\n",
       "      <td>1185.000000</td>\n",
       "      <td>1185.625000</td>\n",
       "      <td>3199580.0</td>\n",
       "      <td>1048.537231</td>\n",
       "      <td>Jan</td>\n",
       "      <td>16</td>\n",
       "      <td>-0.004346</td>\n",
       "      <td>...</td>\n",
       "      <td>0</td>\n",
       "      <td>0</td>\n",
       "      <td>0</td>\n",
       "      <td>0</td>\n",
       "      <td>0</td>\n",
       "      <td>0</td>\n",
       "      <td>0</td>\n",
       "      <td>5</td>\n",
       "      <td>25</td>\n",
       "      <td>7.078025</td>\n",
       "    </tr>\n",
       "    <tr>\n",
       "      <th>...</th>\n",
       "      <td>...</td>\n",
       "      <td>...</td>\n",
       "      <td>...</td>\n",
       "      <td>...</td>\n",
       "      <td>...</td>\n",
       "      <td>...</td>\n",
       "      <td>...</td>\n",
       "      <td>...</td>\n",
       "      <td>...</td>\n",
       "      <td>...</td>\n",
       "      <td>...</td>\n",
       "      <td>...</td>\n",
       "      <td>...</td>\n",
       "      <td>...</td>\n",
       "      <td>...</td>\n",
       "      <td>...</td>\n",
       "      <td>...</td>\n",
       "      <td>...</td>\n",
       "      <td>...</td>\n",
       "      <td>...</td>\n",
       "      <td>...</td>\n",
       "    </tr>\n",
       "    <tr>\n",
       "      <th>1477</th>\n",
       "      <td>2021-12-27</td>\n",
       "      <td>3700.000000</td>\n",
       "      <td>3653.100098</td>\n",
       "      <td>3671.000000</td>\n",
       "      <td>3696.100098</td>\n",
       "      <td>1534135.0</td>\n",
       "      <td>3664.929688</td>\n",
       "      <td>Dec</td>\n",
       "      <td>21</td>\n",
       "      <td>0.006865</td>\n",
       "      <td>...</td>\n",
       "      <td>0</td>\n",
       "      <td>0</td>\n",
       "      <td>0</td>\n",
       "      <td>0</td>\n",
       "      <td>0</td>\n",
       "      <td>0</td>\n",
       "      <td>0</td>\n",
       "      <td>1478</td>\n",
       "      <td>2184484</td>\n",
       "      <td>8.215034</td>\n",
       "    </tr>\n",
       "    <tr>\n",
       "      <th>1478</th>\n",
       "      <td>2021-12-28</td>\n",
       "      <td>3725.000000</td>\n",
       "      <td>3693.850098</td>\n",
       "      <td>3710.000000</td>\n",
       "      <td>3706.550049</td>\n",
       "      <td>1456218.0</td>\n",
       "      <td>3675.291260</td>\n",
       "      <td>Dec</td>\n",
       "      <td>21</td>\n",
       "      <td>0.002827</td>\n",
       "      <td>...</td>\n",
       "      <td>0</td>\n",
       "      <td>0</td>\n",
       "      <td>0</td>\n",
       "      <td>0</td>\n",
       "      <td>0</td>\n",
       "      <td>0</td>\n",
       "      <td>0</td>\n",
       "      <td>1479</td>\n",
       "      <td>2187441</td>\n",
       "      <td>8.217857</td>\n",
       "    </tr>\n",
       "    <tr>\n",
       "      <th>1479</th>\n",
       "      <td>2021-12-29</td>\n",
       "      <td>3719.949951</td>\n",
       "      <td>3685.000000</td>\n",
       "      <td>3692.250000</td>\n",
       "      <td>3694.699951</td>\n",
       "      <td>1456923.0</td>\n",
       "      <td>3663.541260</td>\n",
       "      <td>Dec</td>\n",
       "      <td>21</td>\n",
       "      <td>-0.003197</td>\n",
       "      <td>...</td>\n",
       "      <td>0</td>\n",
       "      <td>0</td>\n",
       "      <td>0</td>\n",
       "      <td>0</td>\n",
       "      <td>0</td>\n",
       "      <td>0</td>\n",
       "      <td>0</td>\n",
       "      <td>1480</td>\n",
       "      <td>2190400</td>\n",
       "      <td>8.214655</td>\n",
       "    </tr>\n",
       "    <tr>\n",
       "      <th>1480</th>\n",
       "      <td>2021-12-30</td>\n",
       "      <td>3740.000000</td>\n",
       "      <td>3680.000000</td>\n",
       "      <td>3681.350098</td>\n",
       "      <td>3733.750000</td>\n",
       "      <td>1966475.0</td>\n",
       "      <td>3702.261963</td>\n",
       "      <td>Dec</td>\n",
       "      <td>21</td>\n",
       "      <td>0.010569</td>\n",
       "      <td>...</td>\n",
       "      <td>0</td>\n",
       "      <td>0</td>\n",
       "      <td>0</td>\n",
       "      <td>0</td>\n",
       "      <td>0</td>\n",
       "      <td>0</td>\n",
       "      <td>0</td>\n",
       "      <td>1481</td>\n",
       "      <td>2193361</td>\n",
       "      <td>8.225168</td>\n",
       "    </tr>\n",
       "    <tr>\n",
       "      <th>1481</th>\n",
       "      <td>2021-12-31</td>\n",
       "      <td>3760.000000</td>\n",
       "      <td>3731.300049</td>\n",
       "      <td>3742.800049</td>\n",
       "      <td>3738.350098</td>\n",
       "      <td>1207141.0</td>\n",
       "      <td>3706.823242</td>\n",
       "      <td>Dec</td>\n",
       "      <td>21</td>\n",
       "      <td>0.001232</td>\n",
       "      <td>...</td>\n",
       "      <td>0</td>\n",
       "      <td>0</td>\n",
       "      <td>0</td>\n",
       "      <td>0</td>\n",
       "      <td>0</td>\n",
       "      <td>0</td>\n",
       "      <td>0</td>\n",
       "      <td>1482</td>\n",
       "      <td>2196324</td>\n",
       "      <td>8.226400</td>\n",
       "    </tr>\n",
       "  </tbody>\n",
       "</table>\n",
       "<p>1482 rows × 27 columns</p>\n",
       "</div>"
      ],
      "text/plain": [
       "           Date         High          Low         Open        Close  \\\n",
       "0    2016-01-01  1219.500000  1206.125000  1219.500000  1208.199951   \n",
       "1    2016-01-04  1207.000000  1183.025024  1205.074951  1184.800049   \n",
       "2    2016-01-05  1193.300049  1170.500000  1192.500000  1174.474976   \n",
       "3    2016-01-06  1193.074951  1175.099976  1175.099976  1190.800049   \n",
       "4    2016-01-07  1191.449951  1180.000000  1185.000000  1185.625000   \n",
       "...         ...          ...          ...          ...          ...   \n",
       "1477 2021-12-27  3700.000000  3653.100098  3671.000000  3696.100098   \n",
       "1478 2021-12-28  3725.000000  3693.850098  3710.000000  3706.550049   \n",
       "1479 2021-12-29  3719.949951  3685.000000  3692.250000  3694.699951   \n",
       "1480 2021-12-30  3740.000000  3680.000000  3681.350098  3733.750000   \n",
       "1481 2021-12-31  3760.000000  3731.300049  3742.800049  3738.350098   \n",
       "\n",
       "         Volume    Adj Close Month Year  Daily return  ...  month_Jul  \\\n",
       "0      712262.0  1068.501953   Jan   16           NaN  ...          0   \n",
       "1     1870184.0  1047.807861   Jan   16     -0.019368  ...          0   \n",
       "2     2678020.0  1038.676392   Jan   16     -0.008715  ...          0   \n",
       "3     2653228.0  1053.113892   Jan   16      0.013900  ...          0   \n",
       "4     3199580.0  1048.537231   Jan   16     -0.004346  ...          0   \n",
       "...         ...          ...   ...  ...           ...  ...        ...   \n",
       "1477  1534135.0  3664.929688   Dec   21      0.006865  ...          0   \n",
       "1478  1456218.0  3675.291260   Dec   21      0.002827  ...          0   \n",
       "1479  1456923.0  3663.541260   Dec   21     -0.003197  ...          0   \n",
       "1480  1966475.0  3702.261963   Dec   21      0.010569  ...          0   \n",
       "1481  1207141.0  3706.823242   Dec   21      0.001232  ...          0   \n",
       "\n",
       "     month_Jun  month_Mar  month_May  month_Nov  month_Oct  month_Sep     t  \\\n",
       "0            0          0          0          0          0          0     1   \n",
       "1            0          0          0          0          0          0     2   \n",
       "2            0          0          0          0          0          0     3   \n",
       "3            0          0          0          0          0          0     4   \n",
       "4            0          0          0          0          0          0     5   \n",
       "...        ...        ...        ...        ...        ...        ...   ...   \n",
       "1477         0          0          0          0          0          0  1478   \n",
       "1478         0          0          0          0          0          0  1479   \n",
       "1479         0          0          0          0          0          0  1480   \n",
       "1480         0          0          0          0          0          0  1481   \n",
       "1481         0          0          0          0          0          0  1482   \n",
       "\n",
       "      t_square  log_Close  \n",
       "0            1   7.096887  \n",
       "1            4   7.077329  \n",
       "2            9   7.068576  \n",
       "3           16   7.082381  \n",
       "4           25   7.078025  \n",
       "...        ...        ...  \n",
       "1477   2184484   8.215034  \n",
       "1478   2187441   8.217857  \n",
       "1479   2190400   8.214655  \n",
       "1480   2193361   8.225168  \n",
       "1481   2196324   8.226400  \n",
       "\n",
       "[1482 rows x 27 columns]"
      ]
     },
     "execution_count": 129,
     "metadata": {},
     "output_type": "execute_result"
    }
   ],
   "source": [
    "log_Close = np.log(final_df['Close'])\n",
    "final_df['log_Close'] = log_Close\n",
    "final_df\n"
   ]
  },
  {
   "cell_type": "code",
   "execution_count": 130,
   "id": "5b3a290d",
   "metadata": {},
   "outputs": [
    {
     "data": {
      "image/png": "[encoded data removed]",
      "text/plain": [
       "<Figure size 864x648 with 2 Axes>"
      ]
     },
     "metadata": {
      "needs_background": "light"
     },
     "output_type": "display_data"
    }
   ],
   "source": [
    "# line plot {With Log Transfromation} you can see the Difference , Its linear and Normally Distributed Here!\n",
    "plt.figure(figsize=(12,9))\n",
    "pyplot.subplot(211)\n",
    "pyplot.plot(final_df['log_Close'])\n",
    "plt.xlabel('Years', size=15)  # X  axis  name\n",
    "plt.ylabel('No. of log_Close',size=15) \n",
    "\n",
    "\n",
    "# histogram\n",
    "pyplot.subplot(212)\n",
    "pyplot.hist(final_df['log_Close'])\n",
    "plt.xlabel('Total Months', size=15)  # X  axis  name\n",
    "plt.ylabel('No. of log_Close',size=15) \n",
    "pyplot.show()\n",
    "\n",
    "## Now we can see using LOG Tranformation the we don't see any Skewness and it normally Distributed\n",
    "### Non-Linear trend Converted to Linear trend"
   ]
  },
  {
   "cell_type": "code",
   "execution_count": 131,
   "id": "3dac9c24",
   "metadata": {},
   "outputs": [
    {
     "data": {
      "text/plain": [
       "(1482, 27)"
      ]
     },
     "execution_count": 131,
     "metadata": {},
     "output_type": "execute_result"
    }
   ],
   "source": [
    "final_df.shape"
   ]
  },
  {
   "cell_type": "code",
   "execution_count": 132,
   "id": "13077348",
   "metadata": {},
   "outputs": [],
   "source": [
    "# let's now save the train and test sets for the next notebook!\n",
    "\n",
    "final_df.to_csv('final_df.csv', index=False)"
   ]
  },
  {
   "cell_type": "code",
   "execution_count": null,
   "id": "0725c1d1",
   "metadata": {},
   "outputs": [],
   "source": []
  }
 ],
 "metadata": {
  "kernelspec": {
   "display_name": "Python 3",
   "language": "python",
   "name": "python3"
  },
  "language_info": {
   "codemirror_mode": {
    "name": "ipython",
    "version": 3
   },
   "file_extension": ".py",
   "mimetype": "text/x-python",
   "name": "python",
   "nbconvert_exporter": "python",
   "pygments_lexer": "ipython3",
   "version": "3.8.8"
  }
 },
 "nbformat": 4,
 "nbformat_minor": 5
}
